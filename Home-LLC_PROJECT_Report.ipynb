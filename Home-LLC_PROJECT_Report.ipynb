{
 "cells": [
  {
   "cell_type": "markdown",
   "id": "d500c1d4",
   "metadata": {},
   "source": [
    "# Project:-US Home Prices: Supply-Demand Dynamics"
   ]
  },
  {
   "cell_type": "code",
   "execution_count": 1,
   "id": "11e49b7f",
   "metadata": {},
   "outputs": [],
   "source": [
    "#importing useable libraries\n",
    "import pandas as pd\n",
    "import numpy as np\n",
    "import seaborn as sns\n",
    "import matplotlib.pyplot as plt\n",
    "import warnings\n",
    "warnings.filterwarnings('ignore')"
   ]
  },
  {
   "cell_type": "code",
   "execution_count": 2,
   "id": "80cfdbcd",
   "metadata": {},
   "outputs": [],
   "source": [
    "# Read CSV files into dataframes\n",
    "df1 = pd.read_csv('SUPPLY1.csv')\n",
    "df2 = pd.read_csv('HOME_LLC DATA.csv')"
   ]
  },
  {
   "cell_type": "code",
   "execution_count": 3,
   "id": "03f0a79c",
   "metadata": {},
   "outputs": [
    {
     "data": {
      "text/html": [
       "<div>\n",
       "<style scoped>\n",
       "    .dataframe tbody tr th:only-of-type {\n",
       "        vertical-align: middle;\n",
       "    }\n",
       "\n",
       "    .dataframe tbody tr th {\n",
       "        vertical-align: top;\n",
       "    }\n",
       "\n",
       "    .dataframe thead th {\n",
       "        text-align: right;\n",
       "    }\n",
       "</style>\n",
       "<table border=\"1\" class=\"dataframe\">\n",
       "  <thead>\n",
       "    <tr style=\"text-align: right;\">\n",
       "      <th></th>\n",
       "      <th>DATE</th>\n",
       "      <th>PERMIT</th>\n",
       "      <th>MSACSR</th>\n",
       "      <th>TLMFGCONS</th>\n",
       "    </tr>\n",
       "  </thead>\n",
       "  <tbody>\n",
       "    <tr>\n",
       "      <th>0</th>\n",
       "      <td>01-01-2003</td>\n",
       "      <td>1808</td>\n",
       "      <td>4.0</td>\n",
       "      <td>19703</td>\n",
       "    </tr>\n",
       "    <tr>\n",
       "      <th>1</th>\n",
       "      <td>01-02-2003</td>\n",
       "      <td>1854</td>\n",
       "      <td>4.5</td>\n",
       "      <td>19817</td>\n",
       "    </tr>\n",
       "    <tr>\n",
       "      <th>2</th>\n",
       "      <td>01-03-2003</td>\n",
       "      <td>1757</td>\n",
       "      <td>4.1</td>\n",
       "      <td>20772</td>\n",
       "    </tr>\n",
       "    <tr>\n",
       "      <th>3</th>\n",
       "      <td>01-04-2003</td>\n",
       "      <td>1803</td>\n",
       "      <td>4.1</td>\n",
       "      <td>20655</td>\n",
       "    </tr>\n",
       "    <tr>\n",
       "      <th>4</th>\n",
       "      <td>01-05-2003</td>\n",
       "      <td>1835</td>\n",
       "      <td>3.9</td>\n",
       "      <td>22157</td>\n",
       "    </tr>\n",
       "    <tr>\n",
       "      <th>...</th>\n",
       "      <td>...</td>\n",
       "      <td>...</td>\n",
       "      <td>...</td>\n",
       "      <td>...</td>\n",
       "    </tr>\n",
       "    <tr>\n",
       "      <th>236</th>\n",
       "      <td>01-09-2022</td>\n",
       "      <td>1588</td>\n",
       "      <td>9.7</td>\n",
       "      <td>122877</td>\n",
       "    </tr>\n",
       "    <tr>\n",
       "      <th>237</th>\n",
       "      <td>01-10-2022</td>\n",
       "      <td>1555</td>\n",
       "      <td>9.7</td>\n",
       "      <td>120839</td>\n",
       "    </tr>\n",
       "    <tr>\n",
       "      <th>238</th>\n",
       "      <td>01-11-2022</td>\n",
       "      <td>1402</td>\n",
       "      <td>9.4</td>\n",
       "      <td>131816</td>\n",
       "    </tr>\n",
       "    <tr>\n",
       "      <th>239</th>\n",
       "      <td>01-12-2022</td>\n",
       "      <td>1409</td>\n",
       "      <td>8.5</td>\n",
       "      <td>133244</td>\n",
       "    </tr>\n",
       "    <tr>\n",
       "      <th>240</th>\n",
       "      <td>01-01-2023</td>\n",
       "      <td>1354</td>\n",
       "      <td>8.1</td>\n",
       "      <td>164649</td>\n",
       "    </tr>\n",
       "  </tbody>\n",
       "</table>\n",
       "<p>241 rows × 4 columns</p>\n",
       "</div>"
      ],
      "text/plain": [
       "           DATE  PERMIT  MSACSR  TLMFGCONS\n",
       "0    01-01-2003    1808     4.0      19703\n",
       "1    01-02-2003    1854     4.5      19817\n",
       "2    01-03-2003    1757     4.1      20772\n",
       "3    01-04-2003    1803     4.1      20655\n",
       "4    01-05-2003    1835     3.9      22157\n",
       "..          ...     ...     ...        ...\n",
       "236  01-09-2022    1588     9.7     122877\n",
       "237  01-10-2022    1555     9.7     120839\n",
       "238  01-11-2022    1402     9.4     131816\n",
       "239  01-12-2022    1409     8.5     133244\n",
       "240  01-01-2023    1354     8.1     164649\n",
       "\n",
       "[241 rows x 4 columns]"
      ]
     },
     "execution_count": 3,
     "metadata": {},
     "output_type": "execute_result"
    }
   ],
   "source": [
    "df1"
   ]
  },
  {
   "cell_type": "code",
   "execution_count": 4,
   "id": "2c881e44",
   "metadata": {},
   "outputs": [
    {
     "data": {
      "text/html": [
       "<div>\n",
       "<style scoped>\n",
       "    .dataframe tbody tr th:only-of-type {\n",
       "        vertical-align: middle;\n",
       "    }\n",
       "\n",
       "    .dataframe tbody tr th {\n",
       "        vertical-align: top;\n",
       "    }\n",
       "\n",
       "    .dataframe thead th {\n",
       "        text-align: right;\n",
       "    }\n",
       "</style>\n",
       "<table border=\"1\" class=\"dataframe\">\n",
       "  <thead>\n",
       "    <tr style=\"text-align: right;\">\n",
       "      <th></th>\n",
       "      <th>DATE</th>\n",
       "      <th>UMCSENT</th>\n",
       "      <th>GDP</th>\n",
       "      <th>MSPUS</th>\n",
       "      <th>FEDFUNDS</th>\n",
       "      <th>CSUSHPINSA</th>\n",
       "    </tr>\n",
       "  </thead>\n",
       "  <tbody>\n",
       "    <tr>\n",
       "      <th>0</th>\n",
       "      <td>01-01-2003</td>\n",
       "      <td>82.4</td>\n",
       "      <td>11174.129</td>\n",
       "      <td>186000.0</td>\n",
       "      <td>1.24</td>\n",
       "      <td>127.652</td>\n",
       "    </tr>\n",
       "    <tr>\n",
       "      <th>1</th>\n",
       "      <td>01-02-2003</td>\n",
       "      <td>79.9</td>\n",
       "      <td>11312.766</td>\n",
       "      <td>191800.0</td>\n",
       "      <td>1.26</td>\n",
       "      <td>128.326</td>\n",
       "    </tr>\n",
       "    <tr>\n",
       "      <th>2</th>\n",
       "      <td>01-03-2003</td>\n",
       "      <td>77.6</td>\n",
       "      <td>11566.669</td>\n",
       "      <td>191900.0</td>\n",
       "      <td>1.25</td>\n",
       "      <td>129.308</td>\n",
       "    </tr>\n",
       "    <tr>\n",
       "      <th>3</th>\n",
       "      <td>01-04-2003</td>\n",
       "      <td>86.0</td>\n",
       "      <td>11772.234</td>\n",
       "      <td>198800.0</td>\n",
       "      <td>1.26</td>\n",
       "      <td>130.488</td>\n",
       "    </tr>\n",
       "    <tr>\n",
       "      <th>4</th>\n",
       "      <td>01-05-2003</td>\n",
       "      <td>92.1</td>\n",
       "      <td>11923.447</td>\n",
       "      <td>212700.0</td>\n",
       "      <td>1.26</td>\n",
       "      <td>131.839</td>\n",
       "    </tr>\n",
       "    <tr>\n",
       "      <th>...</th>\n",
       "      <td>...</td>\n",
       "      <td>...</td>\n",
       "      <td>...</td>\n",
       "      <td>...</td>\n",
       "      <td>...</td>\n",
       "      <td>...</td>\n",
       "    </tr>\n",
       "    <tr>\n",
       "      <th>236</th>\n",
       "      <td>01-09-2022</td>\n",
       "      <td>58.6</td>\n",
       "      <td>NaN</td>\n",
       "      <td>NaN</td>\n",
       "      <td>2.56</td>\n",
       "      <td>300.503</td>\n",
       "    </tr>\n",
       "    <tr>\n",
       "      <th>237</th>\n",
       "      <td>01-10-2022</td>\n",
       "      <td>59.9</td>\n",
       "      <td>NaN</td>\n",
       "      <td>NaN</td>\n",
       "      <td>3.08</td>\n",
       "      <td>298.731</td>\n",
       "    </tr>\n",
       "    <tr>\n",
       "      <th>238</th>\n",
       "      <td>01-11-2022</td>\n",
       "      <td>56.7</td>\n",
       "      <td>NaN</td>\n",
       "      <td>NaN</td>\n",
       "      <td>3.78</td>\n",
       "      <td>296.928</td>\n",
       "    </tr>\n",
       "    <tr>\n",
       "      <th>239</th>\n",
       "      <td>01-12-2022</td>\n",
       "      <td>59.8</td>\n",
       "      <td>NaN</td>\n",
       "      <td>NaN</td>\n",
       "      <td>4.10</td>\n",
       "      <td>294.417</td>\n",
       "    </tr>\n",
       "    <tr>\n",
       "      <th>240</th>\n",
       "      <td>01-01-2023</td>\n",
       "      <td>64.9</td>\n",
       "      <td>NaN</td>\n",
       "      <td>NaN</td>\n",
       "      <td>4.33</td>\n",
       "      <td>292.849</td>\n",
       "    </tr>\n",
       "  </tbody>\n",
       "</table>\n",
       "<p>241 rows × 6 columns</p>\n",
       "</div>"
      ],
      "text/plain": [
       "           DATE  UMCSENT        GDP     MSPUS  FEDFUNDS  CSUSHPINSA\n",
       "0    01-01-2003     82.4  11174.129  186000.0      1.24     127.652\n",
       "1    01-02-2003     79.9  11312.766  191800.0      1.26     128.326\n",
       "2    01-03-2003     77.6  11566.669  191900.0      1.25     129.308\n",
       "3    01-04-2003     86.0  11772.234  198800.0      1.26     130.488\n",
       "4    01-05-2003     92.1  11923.447  212700.0      1.26     131.839\n",
       "..          ...      ...        ...       ...       ...         ...\n",
       "236  01-09-2022     58.6        NaN       NaN      2.56     300.503\n",
       "237  01-10-2022     59.9        NaN       NaN      3.08     298.731\n",
       "238  01-11-2022     56.7        NaN       NaN      3.78     296.928\n",
       "239  01-12-2022     59.8        NaN       NaN      4.10     294.417\n",
       "240  01-01-2023     64.9        NaN       NaN      4.33     292.849\n",
       "\n",
       "[241 rows x 6 columns]"
      ]
     },
     "execution_count": 4,
     "metadata": {},
     "output_type": "execute_result"
    }
   ],
   "source": [
    "df2"
   ]
  },
  {
   "cell_type": "code",
   "execution_count": 5,
   "id": "936e0679",
   "metadata": {},
   "outputs": [],
   "source": [
    "# Merge both supply and demand dynamics dataframes\n",
    "merged_df = pd.merge(df1, df2, on='DATE')"
   ]
  },
  {
   "cell_type": "code",
   "execution_count": 6,
   "id": "03ba7a5b",
   "metadata": {},
   "outputs": [
    {
     "data": {
      "text/html": [
       "<div>\n",
       "<style scoped>\n",
       "    .dataframe tbody tr th:only-of-type {\n",
       "        vertical-align: middle;\n",
       "    }\n",
       "\n",
       "    .dataframe tbody tr th {\n",
       "        vertical-align: top;\n",
       "    }\n",
       "\n",
       "    .dataframe thead th {\n",
       "        text-align: right;\n",
       "    }\n",
       "</style>\n",
       "<table border=\"1\" class=\"dataframe\">\n",
       "  <thead>\n",
       "    <tr style=\"text-align: right;\">\n",
       "      <th></th>\n",
       "      <th>DATE</th>\n",
       "      <th>PERMIT</th>\n",
       "      <th>MSACSR</th>\n",
       "      <th>TLMFGCONS</th>\n",
       "      <th>UMCSENT</th>\n",
       "      <th>GDP</th>\n",
       "      <th>MSPUS</th>\n",
       "      <th>FEDFUNDS</th>\n",
       "      <th>CSUSHPINSA</th>\n",
       "    </tr>\n",
       "  </thead>\n",
       "  <tbody>\n",
       "    <tr>\n",
       "      <th>0</th>\n",
       "      <td>01-01-2003</td>\n",
       "      <td>1808</td>\n",
       "      <td>4.0</td>\n",
       "      <td>19703</td>\n",
       "      <td>82.4</td>\n",
       "      <td>11174.129</td>\n",
       "      <td>186000.0</td>\n",
       "      <td>1.24</td>\n",
       "      <td>127.652</td>\n",
       "    </tr>\n",
       "    <tr>\n",
       "      <th>1</th>\n",
       "      <td>01-02-2003</td>\n",
       "      <td>1854</td>\n",
       "      <td>4.5</td>\n",
       "      <td>19817</td>\n",
       "      <td>79.9</td>\n",
       "      <td>11312.766</td>\n",
       "      <td>191800.0</td>\n",
       "      <td>1.26</td>\n",
       "      <td>128.326</td>\n",
       "    </tr>\n",
       "    <tr>\n",
       "      <th>2</th>\n",
       "      <td>01-03-2003</td>\n",
       "      <td>1757</td>\n",
       "      <td>4.1</td>\n",
       "      <td>20772</td>\n",
       "      <td>77.6</td>\n",
       "      <td>11566.669</td>\n",
       "      <td>191900.0</td>\n",
       "      <td>1.25</td>\n",
       "      <td>129.308</td>\n",
       "    </tr>\n",
       "    <tr>\n",
       "      <th>3</th>\n",
       "      <td>01-04-2003</td>\n",
       "      <td>1803</td>\n",
       "      <td>4.1</td>\n",
       "      <td>20655</td>\n",
       "      <td>86.0</td>\n",
       "      <td>11772.234</td>\n",
       "      <td>198800.0</td>\n",
       "      <td>1.26</td>\n",
       "      <td>130.488</td>\n",
       "    </tr>\n",
       "    <tr>\n",
       "      <th>4</th>\n",
       "      <td>01-05-2003</td>\n",
       "      <td>1835</td>\n",
       "      <td>3.9</td>\n",
       "      <td>22157</td>\n",
       "      <td>92.1</td>\n",
       "      <td>11923.447</td>\n",
       "      <td>212700.0</td>\n",
       "      <td>1.26</td>\n",
       "      <td>131.839</td>\n",
       "    </tr>\n",
       "    <tr>\n",
       "      <th>...</th>\n",
       "      <td>...</td>\n",
       "      <td>...</td>\n",
       "      <td>...</td>\n",
       "      <td>...</td>\n",
       "      <td>...</td>\n",
       "      <td>...</td>\n",
       "      <td>...</td>\n",
       "      <td>...</td>\n",
       "      <td>...</td>\n",
       "    </tr>\n",
       "    <tr>\n",
       "      <th>236</th>\n",
       "      <td>01-09-2022</td>\n",
       "      <td>1588</td>\n",
       "      <td>9.7</td>\n",
       "      <td>122877</td>\n",
       "      <td>58.6</td>\n",
       "      <td>NaN</td>\n",
       "      <td>NaN</td>\n",
       "      <td>2.56</td>\n",
       "      <td>300.503</td>\n",
       "    </tr>\n",
       "    <tr>\n",
       "      <th>237</th>\n",
       "      <td>01-10-2022</td>\n",
       "      <td>1555</td>\n",
       "      <td>9.7</td>\n",
       "      <td>120839</td>\n",
       "      <td>59.9</td>\n",
       "      <td>NaN</td>\n",
       "      <td>NaN</td>\n",
       "      <td>3.08</td>\n",
       "      <td>298.731</td>\n",
       "    </tr>\n",
       "    <tr>\n",
       "      <th>238</th>\n",
       "      <td>01-11-2022</td>\n",
       "      <td>1402</td>\n",
       "      <td>9.4</td>\n",
       "      <td>131816</td>\n",
       "      <td>56.7</td>\n",
       "      <td>NaN</td>\n",
       "      <td>NaN</td>\n",
       "      <td>3.78</td>\n",
       "      <td>296.928</td>\n",
       "    </tr>\n",
       "    <tr>\n",
       "      <th>239</th>\n",
       "      <td>01-12-2022</td>\n",
       "      <td>1409</td>\n",
       "      <td>8.5</td>\n",
       "      <td>133244</td>\n",
       "      <td>59.8</td>\n",
       "      <td>NaN</td>\n",
       "      <td>NaN</td>\n",
       "      <td>4.10</td>\n",
       "      <td>294.417</td>\n",
       "    </tr>\n",
       "    <tr>\n",
       "      <th>240</th>\n",
       "      <td>01-01-2023</td>\n",
       "      <td>1354</td>\n",
       "      <td>8.1</td>\n",
       "      <td>164649</td>\n",
       "      <td>64.9</td>\n",
       "      <td>NaN</td>\n",
       "      <td>NaN</td>\n",
       "      <td>4.33</td>\n",
       "      <td>292.849</td>\n",
       "    </tr>\n",
       "  </tbody>\n",
       "</table>\n",
       "<p>241 rows × 9 columns</p>\n",
       "</div>"
      ],
      "text/plain": [
       "           DATE  PERMIT  MSACSR  TLMFGCONS  UMCSENT        GDP     MSPUS   \n",
       "0    01-01-2003    1808     4.0      19703     82.4  11174.129  186000.0  \\\n",
       "1    01-02-2003    1854     4.5      19817     79.9  11312.766  191800.0   \n",
       "2    01-03-2003    1757     4.1      20772     77.6  11566.669  191900.0   \n",
       "3    01-04-2003    1803     4.1      20655     86.0  11772.234  198800.0   \n",
       "4    01-05-2003    1835     3.9      22157     92.1  11923.447  212700.0   \n",
       "..          ...     ...     ...        ...      ...        ...       ...   \n",
       "236  01-09-2022    1588     9.7     122877     58.6        NaN       NaN   \n",
       "237  01-10-2022    1555     9.7     120839     59.9        NaN       NaN   \n",
       "238  01-11-2022    1402     9.4     131816     56.7        NaN       NaN   \n",
       "239  01-12-2022    1409     8.5     133244     59.8        NaN       NaN   \n",
       "240  01-01-2023    1354     8.1     164649     64.9        NaN       NaN   \n",
       "\n",
       "     FEDFUNDS  CSUSHPINSA  \n",
       "0        1.24     127.652  \n",
       "1        1.26     128.326  \n",
       "2        1.25     129.308  \n",
       "3        1.26     130.488  \n",
       "4        1.26     131.839  \n",
       "..        ...         ...  \n",
       "236      2.56     300.503  \n",
       "237      3.08     298.731  \n",
       "238      3.78     296.928  \n",
       "239      4.10     294.417  \n",
       "240      4.33     292.849  \n",
       "\n",
       "[241 rows x 9 columns]"
      ]
     },
     "execution_count": 6,
     "metadata": {},
     "output_type": "execute_result"
    }
   ],
   "source": [
    "merged_df"
   ]
  },
  {
   "cell_type": "code",
   "execution_count": 7,
   "id": "ab62457f",
   "metadata": {},
   "outputs": [
    {
     "data": {
      "text/html": [
       "<div>\n",
       "<style scoped>\n",
       "    .dataframe tbody tr th:only-of-type {\n",
       "        vertical-align: middle;\n",
       "    }\n",
       "\n",
       "    .dataframe tbody tr th {\n",
       "        vertical-align: top;\n",
       "    }\n",
       "\n",
       "    .dataframe thead th {\n",
       "        text-align: right;\n",
       "    }\n",
       "</style>\n",
       "<table border=\"1\" class=\"dataframe\">\n",
       "  <thead>\n",
       "    <tr style=\"text-align: right;\">\n",
       "      <th></th>\n",
       "      <th>DATE</th>\n",
       "      <th>PERMIT</th>\n",
       "      <th>MSACSR</th>\n",
       "      <th>TLMFGCONS</th>\n",
       "      <th>UMCSENT</th>\n",
       "      <th>GDP</th>\n",
       "      <th>MSPUS</th>\n",
       "      <th>FEDFUNDS</th>\n",
       "      <th>CSUSHPINSA</th>\n",
       "    </tr>\n",
       "  </thead>\n",
       "  <tbody>\n",
       "    <tr>\n",
       "      <th>0</th>\n",
       "      <td>01-01-2003</td>\n",
       "      <td>1808</td>\n",
       "      <td>4.0</td>\n",
       "      <td>19703</td>\n",
       "      <td>82.4</td>\n",
       "      <td>11174.129</td>\n",
       "      <td>186000.0</td>\n",
       "      <td>1.24</td>\n",
       "      <td>127.652</td>\n",
       "    </tr>\n",
       "    <tr>\n",
       "      <th>1</th>\n",
       "      <td>01-02-2003</td>\n",
       "      <td>1854</td>\n",
       "      <td>4.5</td>\n",
       "      <td>19817</td>\n",
       "      <td>79.9</td>\n",
       "      <td>11312.766</td>\n",
       "      <td>191800.0</td>\n",
       "      <td>1.26</td>\n",
       "      <td>128.326</td>\n",
       "    </tr>\n",
       "    <tr>\n",
       "      <th>2</th>\n",
       "      <td>01-03-2003</td>\n",
       "      <td>1757</td>\n",
       "      <td>4.1</td>\n",
       "      <td>20772</td>\n",
       "      <td>77.6</td>\n",
       "      <td>11566.669</td>\n",
       "      <td>191900.0</td>\n",
       "      <td>1.25</td>\n",
       "      <td>129.308</td>\n",
       "    </tr>\n",
       "    <tr>\n",
       "      <th>3</th>\n",
       "      <td>01-04-2003</td>\n",
       "      <td>1803</td>\n",
       "      <td>4.1</td>\n",
       "      <td>20655</td>\n",
       "      <td>86.0</td>\n",
       "      <td>11772.234</td>\n",
       "      <td>198800.0</td>\n",
       "      <td>1.26</td>\n",
       "      <td>130.488</td>\n",
       "    </tr>\n",
       "    <tr>\n",
       "      <th>4</th>\n",
       "      <td>01-05-2003</td>\n",
       "      <td>1835</td>\n",
       "      <td>3.9</td>\n",
       "      <td>22157</td>\n",
       "      <td>92.1</td>\n",
       "      <td>11923.447</td>\n",
       "      <td>212700.0</td>\n",
       "      <td>1.26</td>\n",
       "      <td>131.839</td>\n",
       "    </tr>\n",
       "    <tr>\n",
       "      <th>...</th>\n",
       "      <td>...</td>\n",
       "      <td>...</td>\n",
       "      <td>...</td>\n",
       "      <td>...</td>\n",
       "      <td>...</td>\n",
       "      <td>...</td>\n",
       "      <td>...</td>\n",
       "      <td>...</td>\n",
       "      <td>...</td>\n",
       "    </tr>\n",
       "    <tr>\n",
       "      <th>236</th>\n",
       "      <td>01-09-2022</td>\n",
       "      <td>1588</td>\n",
       "      <td>9.7</td>\n",
       "      <td>122877</td>\n",
       "      <td>58.6</td>\n",
       "      <td>NaN</td>\n",
       "      <td>NaN</td>\n",
       "      <td>2.56</td>\n",
       "      <td>300.503</td>\n",
       "    </tr>\n",
       "    <tr>\n",
       "      <th>237</th>\n",
       "      <td>01-10-2022</td>\n",
       "      <td>1555</td>\n",
       "      <td>9.7</td>\n",
       "      <td>120839</td>\n",
       "      <td>59.9</td>\n",
       "      <td>NaN</td>\n",
       "      <td>NaN</td>\n",
       "      <td>3.08</td>\n",
       "      <td>298.731</td>\n",
       "    </tr>\n",
       "    <tr>\n",
       "      <th>238</th>\n",
       "      <td>01-11-2022</td>\n",
       "      <td>1402</td>\n",
       "      <td>9.4</td>\n",
       "      <td>131816</td>\n",
       "      <td>56.7</td>\n",
       "      <td>NaN</td>\n",
       "      <td>NaN</td>\n",
       "      <td>3.78</td>\n",
       "      <td>296.928</td>\n",
       "    </tr>\n",
       "    <tr>\n",
       "      <th>239</th>\n",
       "      <td>01-12-2022</td>\n",
       "      <td>1409</td>\n",
       "      <td>8.5</td>\n",
       "      <td>133244</td>\n",
       "      <td>59.8</td>\n",
       "      <td>NaN</td>\n",
       "      <td>NaN</td>\n",
       "      <td>4.10</td>\n",
       "      <td>294.417</td>\n",
       "    </tr>\n",
       "    <tr>\n",
       "      <th>240</th>\n",
       "      <td>01-01-2023</td>\n",
       "      <td>1354</td>\n",
       "      <td>8.1</td>\n",
       "      <td>164649</td>\n",
       "      <td>64.9</td>\n",
       "      <td>NaN</td>\n",
       "      <td>NaN</td>\n",
       "      <td>4.33</td>\n",
       "      <td>292.849</td>\n",
       "    </tr>\n",
       "  </tbody>\n",
       "</table>\n",
       "<p>241 rows × 9 columns</p>\n",
       "</div>"
      ],
      "text/plain": [
       "           DATE  PERMIT  MSACSR  TLMFGCONS  UMCSENT        GDP     MSPUS   \n",
       "0    01-01-2003    1808     4.0      19703     82.4  11174.129  186000.0  \\\n",
       "1    01-02-2003    1854     4.5      19817     79.9  11312.766  191800.0   \n",
       "2    01-03-2003    1757     4.1      20772     77.6  11566.669  191900.0   \n",
       "3    01-04-2003    1803     4.1      20655     86.0  11772.234  198800.0   \n",
       "4    01-05-2003    1835     3.9      22157     92.1  11923.447  212700.0   \n",
       "..          ...     ...     ...        ...      ...        ...       ...   \n",
       "236  01-09-2022    1588     9.7     122877     58.6        NaN       NaN   \n",
       "237  01-10-2022    1555     9.7     120839     59.9        NaN       NaN   \n",
       "238  01-11-2022    1402     9.4     131816     56.7        NaN       NaN   \n",
       "239  01-12-2022    1409     8.5     133244     59.8        NaN       NaN   \n",
       "240  01-01-2023    1354     8.1     164649     64.9        NaN       NaN   \n",
       "\n",
       "     FEDFUNDS  CSUSHPINSA  \n",
       "0        1.24     127.652  \n",
       "1        1.26     128.326  \n",
       "2        1.25     129.308  \n",
       "3        1.26     130.488  \n",
       "4        1.26     131.839  \n",
       "..        ...         ...  \n",
       "236      2.56     300.503  \n",
       "237      3.08     298.731  \n",
       "238      3.78     296.928  \n",
       "239      4.10     294.417  \n",
       "240      4.33     292.849  \n",
       "\n",
       "[241 rows x 9 columns]"
      ]
     },
     "execution_count": 7,
     "metadata": {},
     "output_type": "execute_result"
    }
   ],
   "source": [
    "df = merged_df\n",
    "df"
   ]
  },
  {
   "cell_type": "markdown",
   "id": "6a7a104e",
   "metadata": {},
   "source": [
    "#  EDA: Exploratory Data Analysis"
   ]
  },
  {
   "cell_type": "code",
   "execution_count": 8,
   "id": "cea694bf",
   "metadata": {},
   "outputs": [
    {
     "name": "stdout",
     "output_type": "stream",
     "text": [
      "The rows and columns in the dataset: (241, 9)\n",
      "\n",
      "The column headers in the dataset:\n",
      " ['DATE', 'PERMIT', 'MSACSR', 'TLMFGCONS', 'UMCSENT', 'GDP', 'MSPUS', 'FEDFUNDS', 'CSUSHPINSA']\n"
     ]
    }
   ],
   "source": [
    "#Checking the dimensions of the dataset\n",
    "df.shape\n",
    "print(f\"The rows and columns in the dataset: {df.shape}\")\n",
    "print(f\"\\nThe column headers in the dataset:\\n {df.columns.to_list()}\")"
   ]
  },
  {
   "cell_type": "raw",
   "id": "ba19b99e",
   "metadata": {},
   "source": [
    "Referance:-https://fred.stlouisfed.org/series/CSUSHPISA"
   ]
  },
  {
   "cell_type": "code",
   "execution_count": 9,
   "id": "101c899c",
   "metadata": {},
   "outputs": [
    {
     "name": "stdout",
     "output_type": "stream",
     "text": [
      "<class 'pandas.core.frame.DataFrame'>\n",
      "RangeIndex: 241 entries, 0 to 240\n",
      "Data columns (total 9 columns):\n",
      " #   Column      Non-Null Count  Dtype  \n",
      "---  ------      --------------  -----  \n",
      " 0   DATE        241 non-null    object \n",
      " 1   PERMIT      241 non-null    int64  \n",
      " 2   MSACSR      241 non-null    float64\n",
      " 3   TLMFGCONS   241 non-null    int64  \n",
      " 4   UMCSENT     241 non-null    float64\n",
      " 5   GDP         81 non-null     float64\n",
      " 6   MSPUS       81 non-null     float64\n",
      " 7   FEDFUNDS    241 non-null    float64\n",
      " 8   CSUSHPINSA  241 non-null    float64\n",
      "dtypes: float64(6), int64(2), object(1)\n",
      "memory usage: 17.1+ KB\n",
      "None\n"
     ]
    }
   ],
   "source": [
    "# checking the types of columns\n",
    "print(df.info())"
   ]
  },
  {
   "cell_type": "raw",
   "id": "3bd1d5db",
   "metadata": {},
   "source": [
    "Key Observations: There are two types of data (int64/float64 and object ) present in the dataset. None of the dataset contains null values."
   ]
  },
  {
   "cell_type": "code",
   "execution_count": 10,
   "id": "9168ae60",
   "metadata": {},
   "outputs": [
    {
     "name": "stdout",
     "output_type": "stream",
     "text": [
      "Categorical Columns: \n",
      " ['DATE']\n",
      "\n",
      "Numerical Columns: \n",
      " ['PERMIT', 'MSACSR', 'TLMFGCONS', 'UMCSENT', 'GDP', 'MSPUS', 'FEDFUNDS', 'CSUSHPINSA']\n"
     ]
    }
   ],
   "source": [
    "# Checking for categorical and Numerical columns\n",
    "categorical_col = []\n",
    "numerical_col = []\n",
    "\n",
    "for i in df.dtypes.index:\n",
    "    if df.dtypes[i] == 'object':\n",
    "        categorical_col.append(i)\n",
    "    else:\n",
    "        numerical_col.append(i)\n",
    "print(f\"Categorical Columns: \\n {categorical_col}\\n\")\n",
    "print(f\"Numerical Columns: \\n {numerical_col}\")"
   ]
  },
  {
   "cell_type": "raw",
   "id": "003227b7",
   "metadata": {},
   "source": [
    "AS we can see that the dataset has only one categorical columns and the rest 8 are numerical columns."
   ]
  },
  {
   "cell_type": "markdown",
   "id": "a7515a8e",
   "metadata": {},
   "source": [
    "# Missing Values"
   ]
  },
  {
   "cell_type": "code",
   "execution_count": 11,
   "id": "ceaee9ee",
   "metadata": {},
   "outputs": [
    {
     "data": {
      "text/html": [
       "<div>\n",
       "<style scoped>\n",
       "    .dataframe tbody tr th:only-of-type {\n",
       "        vertical-align: middle;\n",
       "    }\n",
       "\n",
       "    .dataframe tbody tr th {\n",
       "        vertical-align: top;\n",
       "    }\n",
       "\n",
       "    .dataframe thead th {\n",
       "        text-align: right;\n",
       "    }\n",
       "</style>\n",
       "<table border=\"1\" class=\"dataframe\">\n",
       "  <thead>\n",
       "    <tr style=\"text-align: right;\">\n",
       "      <th></th>\n",
       "      <th>Missing in df</th>\n",
       "    </tr>\n",
       "  </thead>\n",
       "  <tbody>\n",
       "    <tr>\n",
       "      <th>DATE</th>\n",
       "      <td>0</td>\n",
       "    </tr>\n",
       "    <tr>\n",
       "      <th>PERMIT</th>\n",
       "      <td>0</td>\n",
       "    </tr>\n",
       "    <tr>\n",
       "      <th>MSACSR</th>\n",
       "      <td>0</td>\n",
       "    </tr>\n",
       "    <tr>\n",
       "      <th>TLMFGCONS</th>\n",
       "      <td>0</td>\n",
       "    </tr>\n",
       "    <tr>\n",
       "      <th>UMCSENT</th>\n",
       "      <td>0</td>\n",
       "    </tr>\n",
       "    <tr>\n",
       "      <th>GDP</th>\n",
       "      <td>160</td>\n",
       "    </tr>\n",
       "    <tr>\n",
       "      <th>MSPUS</th>\n",
       "      <td>160</td>\n",
       "    </tr>\n",
       "    <tr>\n",
       "      <th>FEDFUNDS</th>\n",
       "      <td>0</td>\n",
       "    </tr>\n",
       "    <tr>\n",
       "      <th>CSUSHPINSA</th>\n",
       "      <td>0</td>\n",
       "    </tr>\n",
       "  </tbody>\n",
       "</table>\n",
       "</div>"
      ],
      "text/plain": [
       "            Missing in df\n",
       "DATE                    0\n",
       "PERMIT                  0\n",
       "MSACSR                  0\n",
       "TLMFGCONS               0\n",
       "UMCSENT                 0\n",
       "GDP                   160\n",
       "MSPUS                 160\n",
       "FEDFUNDS                0\n",
       "CSUSHPINSA              0"
      ]
     },
     "execution_count": 11,
     "metadata": {},
     "output_type": "execute_result"
    }
   ],
   "source": [
    "#checking the null values in the training dataset\n",
    "missing_val = df.isnull().sum().to_frame(\"Missing in df\")\n",
    "missing_val"
   ]
  },
  {
   "cell_type": "code",
   "execution_count": 12,
   "id": "e06049a6",
   "metadata": {},
   "outputs": [
    {
     "data": {
      "image/png": "[encoded data removed]",
      "text/plain": [
       "<Figure size 1008x144 with 2 Axes>"
      ]
     },
     "metadata": {
      "needs_background": "light"
     },
     "output_type": "display_data"
    }
   ],
   "source": [
    "# Let's visualize it using heatmap for dataset\n",
    "plt.figure(figsize=(14,2))\n",
    "sns.heatmap(df.isnull(), yticklabels=False, cmap='Set3')\n",
    "plt.title('Missing values in the dataset', fontsize=10);"
   ]
  },
  {
   "cell_type": "code",
   "execution_count": 13,
   "id": "1a3c8363",
   "metadata": {},
   "outputs": [
    {
     "data": {
      "text/plain": [
       "GDP       66.390041\n",
       "MSPUS     66.390041\n",
       "DATE       0.000000\n",
       "PERMIT     0.000000\n",
       "MSACSR     0.000000\n",
       "dtype: float64"
      ]
     },
     "execution_count": 13,
     "metadata": {},
     "output_type": "execute_result"
    }
   ],
   "source": [
    "#check missing percentage\n",
    "percent_missing = (df.isnull().sum() / df.isnull().count()*100).sort_values(ascending = False)\n",
    "percent_missing.head()"
   ]
  },
  {
   "cell_type": "code",
   "execution_count": 14,
   "id": "64cbda42",
   "metadata": {},
   "outputs": [],
   "source": [
    "# Filling missing values in the GDP column using linear interpolation\n",
    "df[\"GDP\"] = df[\"GDP\"].interpolate()"
   ]
  },
  {
   "cell_type": "code",
   "execution_count": 15,
   "id": "4e66c1cb",
   "metadata": {},
   "outputs": [
    {
     "data": {
      "text/plain": [
       "MSPUS         66.390041\n",
       "DATE           0.000000\n",
       "PERMIT         0.000000\n",
       "MSACSR         0.000000\n",
       "TLMFGCONS      0.000000\n",
       "UMCSENT        0.000000\n",
       "GDP            0.000000\n",
       "FEDFUNDS       0.000000\n",
       "CSUSHPINSA     0.000000\n",
       "dtype: float64"
      ]
     },
     "execution_count": 15,
     "metadata": {},
     "output_type": "execute_result"
    }
   ],
   "source": [
    "#check missing percentage\n",
    "percent_missing = (df.isnull().sum() / df.isnull().count()*100).sort_values(ascending = False)\n",
    "percent_missing.head(10)"
   ]
  },
  {
   "cell_type": "code",
   "execution_count": 16,
   "id": "c5eb5862",
   "metadata": {},
   "outputs": [],
   "source": [
    "# Filling missing values in the MSPUS column using linear interpolation\n",
    "df[\"MSPUS\"] = df[\"MSPUS\"].interpolate()"
   ]
  },
  {
   "cell_type": "code",
   "execution_count": 17,
   "id": "bc65e2a2",
   "metadata": {},
   "outputs": [
    {
     "data": {
      "text/plain": [
       "DATE          0\n",
       "PERMIT        0\n",
       "MSACSR        0\n",
       "TLMFGCONS     0\n",
       "UMCSENT       0\n",
       "GDP           0\n",
       "MSPUS         0\n",
       "FEDFUNDS      0\n",
       "CSUSHPINSA    0\n",
       "dtype: int64"
      ]
     },
     "execution_count": 17,
     "metadata": {},
     "output_type": "execute_result"
    }
   ],
   "source": [
    "df.isna().sum()"
   ]
  },
  {
   "cell_type": "code",
   "execution_count": 18,
   "id": "e88f300f",
   "metadata": {},
   "outputs": [
    {
     "data": {
      "image/png": "[encoded data removed]",
      "text/plain": [
       "<Figure size 1008x144 with 2 Axes>"
      ]
     },
     "metadata": {
      "needs_background": "light"
     },
     "output_type": "display_data"
    }
   ],
   "source": [
    "# Let's visualize it using heatmap for dataset\n",
    "plt.figure(figsize=(14,2))\n",
    "sns.heatmap(df.isnull(), yticklabels=False, cmap='Set3')\n",
    "plt.title('Missing values in the Dataset', fontsize=10);"
   ]
  },
  {
   "cell_type": "raw",
   "id": "14a4815b",
   "metadata": {},
   "source": [
    "As We Can See From The Above Results All The Missing Values has been treated."
   ]
  },
  {
   "cell_type": "markdown",
   "id": "0fc63213",
   "metadata": {},
   "source": [
    "# Features Analysis"
   ]
  },
  {
   "cell_type": "markdown",
   "id": "c626780c",
   "metadata": {},
   "source": [
    "# Unique values\n",
    "Now, we are going to review the unique values of each column in the dataset in order to understand the data and the features."
   ]
  },
  {
   "cell_type": "code",
   "execution_count": 19,
   "id": "149e0e06",
   "metadata": {},
   "outputs": [
    {
     "data": {
      "text/html": [
       "<div>\n",
       "<style scoped>\n",
       "    .dataframe tbody tr th:only-of-type {\n",
       "        vertical-align: middle;\n",
       "    }\n",
       "\n",
       "    .dataframe tbody tr th {\n",
       "        vertical-align: top;\n",
       "    }\n",
       "\n",
       "    .dataframe thead th {\n",
       "        text-align: right;\n",
       "    }\n",
       "</style>\n",
       "<table border=\"1\" class=\"dataframe\">\n",
       "  <thead>\n",
       "    <tr style=\"text-align: right;\">\n",
       "      <th></th>\n",
       "      <th>No. of Unique values</th>\n",
       "      <th>Type</th>\n",
       "    </tr>\n",
       "  </thead>\n",
       "  <tbody>\n",
       "    <tr>\n",
       "      <th>DATE</th>\n",
       "      <td>241</td>\n",
       "      <td>object</td>\n",
       "    </tr>\n",
       "    <tr>\n",
       "      <th>PERMIT</th>\n",
       "      <td>227</td>\n",
       "      <td>int64</td>\n",
       "    </tr>\n",
       "    <tr>\n",
       "      <th>MSACSR</th>\n",
       "      <td>71</td>\n",
       "      <td>float64</td>\n",
       "    </tr>\n",
       "    <tr>\n",
       "      <th>TLMFGCONS</th>\n",
       "      <td>241</td>\n",
       "      <td>int64</td>\n",
       "    </tr>\n",
       "    <tr>\n",
       "      <th>UMCSENT</th>\n",
       "      <td>187</td>\n",
       "      <td>float64</td>\n",
       "    </tr>\n",
       "    <tr>\n",
       "      <th>GDP</th>\n",
       "      <td>81</td>\n",
       "      <td>float64</td>\n",
       "    </tr>\n",
       "    <tr>\n",
       "      <th>MSPUS</th>\n",
       "      <td>80</td>\n",
       "      <td>float64</td>\n",
       "    </tr>\n",
       "    <tr>\n",
       "      <th>FEDFUNDS</th>\n",
       "      <td>111</td>\n",
       "      <td>float64</td>\n",
       "    </tr>\n",
       "    <tr>\n",
       "      <th>CSUSHPINSA</th>\n",
       "      <td>241</td>\n",
       "      <td>float64</td>\n",
       "    </tr>\n",
       "  </tbody>\n",
       "</table>\n",
       "</div>"
      ],
      "text/plain": [
       "            No. of Unique values     Type\n",
       "DATE                         241   object\n",
       "PERMIT                       227    int64\n",
       "MSACSR                        71  float64\n",
       "TLMFGCONS                    241    int64\n",
       "UMCSENT                      187  float64\n",
       "GDP                           81  float64\n",
       "MSPUS                         80  float64\n",
       "FEDFUNDS                     111  float64\n",
       "CSUSHPINSA                   241  float64"
      ]
     },
     "execution_count": 19,
     "metadata": {},
     "output_type": "execute_result"
    }
   ],
   "source": [
    "# Reviewing the number of unique values in each feature and the target\n",
    "info_df = df.nunique().to_frame('No. of Unique values')\n",
    "info_df['Type'] = df.dtypes.values\n",
    "info_df"
   ]
  },
  {
   "cell_type": "code",
   "execution_count": 20,
   "id": "7dfc8ef4",
   "metadata": {},
   "outputs": [
    {
     "data": {
      "text/html": [
       "<div>\n",
       "<style scoped>\n",
       "    .dataframe tbody tr th:only-of-type {\n",
       "        vertical-align: middle;\n",
       "    }\n",
       "\n",
       "    .dataframe tbody tr th {\n",
       "        vertical-align: top;\n",
       "    }\n",
       "\n",
       "    .dataframe thead th {\n",
       "        text-align: right;\n",
       "    }\n",
       "</style>\n",
       "<table border=\"1\" class=\"dataframe\">\n",
       "  <thead>\n",
       "    <tr style=\"text-align: right;\">\n",
       "      <th></th>\n",
       "      <th>No. of Unique values</th>\n",
       "      <th>Type</th>\n",
       "    </tr>\n",
       "  </thead>\n",
       "  <tbody>\n",
       "    <tr>\n",
       "      <th>DATE</th>\n",
       "      <td>241</td>\n",
       "      <td>object</td>\n",
       "    </tr>\n",
       "    <tr>\n",
       "      <th>TLMFGCONS</th>\n",
       "      <td>241</td>\n",
       "      <td>int64</td>\n",
       "    </tr>\n",
       "    <tr>\n",
       "      <th>CSUSHPINSA</th>\n",
       "      <td>241</td>\n",
       "      <td>float64</td>\n",
       "    </tr>\n",
       "  </tbody>\n",
       "</table>\n",
       "</div>"
      ],
      "text/plain": [
       "            No. of Unique values     Type\n",
       "DATE                         241   object\n",
       "TLMFGCONS                    241    int64\n",
       "CSUSHPINSA                   241  float64"
      ]
     },
     "execution_count": 20,
     "metadata": {},
     "output_type": "execute_result"
    }
   ],
   "source": [
    "# Checking for columns with one unique value or have the same unique values as rows has the dataset\n",
    "info_df[(info_df['No. of Unique values'] == 1) | (info_df['No. of Unique values'] == df.shape[0]) ]"
   ]
  },
  {
   "cell_type": "raw",
   "id": "d2142634",
   "metadata": {},
   "source": [
    "\"CSUSHPINSA\" Target has 241 unique values"
   ]
  },
  {
   "cell_type": "code",
   "execution_count": 21,
   "id": "36f32fdd",
   "metadata": {},
   "outputs": [
    {
     "data": {
      "text/plain": [
       "array([127.652, 128.326, 129.308, 130.488, 131.839, 133.225, 134.647,\n",
       "       135.966, 137.076, 137.975, 138.765, 139.627, 140.705, 142.029,\n",
       "       144.08 , 146.18 , 148.335, 150.518, 152.337, 153.814, 155.108,\n",
       "       156.298, 157.496, 158.67 , 160.13 , 161.924, 164.576, 166.999,\n",
       "       169.544, 172.015, 174.098, 175.923, 177.611, 178.752, 179.673,\n",
       "       180.107, 180.828, 181.5  , 182.749, 183.648, 184.38 , 184.547,\n",
       "       184.608, 184.405, 184.198, 184.054, 183.631, 183.229, 182.718,\n",
       "       182.471, 182.194, 182.131, 181.884, 181.54 , 180.993, 180.234,\n",
       "       179.122, 177.53 , 175.162, 173.338, 171.077, 169.191, 167.904,\n",
       "       167.324, 167.021, 166.537, 165.713, 164.277, 161.912, 159.163,\n",
       "       156.072, 152.545, 149.363, 147.618, 146.515, 146.943, 148.169,\n",
       "       149.797, 150.749, 150.669, 149.628, 148.585, 147.939, 146.664,\n",
       "       145.003, 143.053, 143.597, 145.404, 147.04 , 147.706, 147.566,\n",
       "       146.431, 144.612, 143.133, 141.823, 140.632, 139.04 , 137.735,\n",
       "       137.788, 139.16 , 140.694, 141.946, 142.343, 141.787, 140.169,\n",
       "       138.411, 136.667, 135.168, 134.168, 133.997, 135.865, 138.471,\n",
       "       141.048, 143.169, 144.282, 144.705, 144.358, 143.968, 143.961,\n",
       "       143.869, 144.313, 145.163, 147.962, 150.969, 153.86 , 156.428,\n",
       "       158.288, 159.396, 159.675, 159.558, 159.365, 159.282, 159.37 ,\n",
       "       159.872, 161.189, 162.969, 164.684, 166.214, 167.138, 167.452,\n",
       "       167.243, 166.911, 166.659, 166.461, 166.251, 166.633, 168.09 ,\n",
       "       169.97 , 171.85 , 173.451, 174.496, 174.938, 175.045, 175.051,\n",
       "       175.143, 175.117, 175.038, 175.283, 176.603, 178.497, 180.345,\n",
       "       181.917, 183.02 , 183.658, 183.948, 184.022, 184.234, 184.406,\n",
       "       184.657, 185.023, 186.532, 188.546, 190.543, 192.271, 193.516,\n",
       "       194.351, 194.822, 195.089, 195.457, 195.852, 196.119, 196.908,\n",
       "       198.576, 200.619, 202.457, 204.047, 204.954, 205.332, 205.378,\n",
       "       205.373, 205.111, 204.703, 204.209, 204.439, 205.786, 207.698,\n",
       "       209.361, 210.598, 211.349, 211.708, 211.886, 211.979, 212.117,\n",
       "       212.248, 212.409, 213.229, 215.207, 217.254, 218.504, 219.83 ,\n",
       "       221.585, 224.064, 226.817, 229.83 , 232.337, 234.39 , 236.468,\n",
       "       239.252, 244.249, 249.856, 255.481, 261.206, 265.545, 268.821,\n",
       "       271.474, 273.682, 276.049, 278.63 , 282.014, 287.256, 295.079,\n",
       "       301.728, 306.504, 308.298, 307.133, 303.685, 300.503, 298.731,\n",
       "       296.928, 294.417, 292.849])"
      ]
     },
     "execution_count": 21,
     "metadata": {},
     "output_type": "execute_result"
    }
   ],
   "source": [
    "df.CSUSHPINSA.unique()"
   ]
  },
  {
   "cell_type": "code",
   "execution_count": 22,
   "id": "ff1b4002",
   "metadata": {},
   "outputs": [
    {
     "data": {
      "text/html": [
       "<div>\n",
       "<style scoped>\n",
       "    .dataframe tbody tr th:only-of-type {\n",
       "        vertical-align: middle;\n",
       "    }\n",
       "\n",
       "    .dataframe tbody tr th {\n",
       "        vertical-align: top;\n",
       "    }\n",
       "\n",
       "    .dataframe thead th {\n",
       "        text-align: right;\n",
       "    }\n",
       "</style>\n",
       "<table border=\"1\" class=\"dataframe\">\n",
       "  <thead>\n",
       "    <tr style=\"text-align: right;\">\n",
       "      <th></th>\n",
       "      <th>count</th>\n",
       "    </tr>\n",
       "    <tr>\n",
       "      <th>CSUSHPINSA</th>\n",
       "      <th></th>\n",
       "    </tr>\n",
       "  </thead>\n",
       "  <tbody>\n",
       "    <tr>\n",
       "      <th>127.652</th>\n",
       "      <td>1</td>\n",
       "    </tr>\n",
       "    <tr>\n",
       "      <th>145.163</th>\n",
       "      <td>1</td>\n",
       "    </tr>\n",
       "    <tr>\n",
       "      <th>175.051</th>\n",
       "      <td>1</td>\n",
       "    </tr>\n",
       "    <tr>\n",
       "      <th>175.143</th>\n",
       "      <td>1</td>\n",
       "    </tr>\n",
       "    <tr>\n",
       "      <th>175.117</th>\n",
       "      <td>1</td>\n",
       "    </tr>\n",
       "    <tr>\n",
       "      <th>...</th>\n",
       "      <td>...</td>\n",
       "    </tr>\n",
       "    <tr>\n",
       "      <th>143.053</th>\n",
       "      <td>1</td>\n",
       "    </tr>\n",
       "    <tr>\n",
       "      <th>143.597</th>\n",
       "      <td>1</td>\n",
       "    </tr>\n",
       "    <tr>\n",
       "      <th>145.404</th>\n",
       "      <td>1</td>\n",
       "    </tr>\n",
       "    <tr>\n",
       "      <th>147.040</th>\n",
       "      <td>1</td>\n",
       "    </tr>\n",
       "    <tr>\n",
       "      <th>292.849</th>\n",
       "      <td>1</td>\n",
       "    </tr>\n",
       "  </tbody>\n",
       "</table>\n",
       "<p>241 rows × 1 columns</p>\n",
       "</div>"
      ],
      "text/plain": [
       "            count\n",
       "CSUSHPINSA       \n",
       "127.652         1\n",
       "145.163         1\n",
       "175.051         1\n",
       "175.143         1\n",
       "175.117         1\n",
       "...           ...\n",
       "143.053         1\n",
       "143.597         1\n",
       "145.404         1\n",
       "147.040         1\n",
       "292.849         1\n",
       "\n",
       "[241 rows x 1 columns]"
      ]
     },
     "execution_count": 22,
     "metadata": {},
     "output_type": "execute_result"
    }
   ],
   "source": [
    "# Checking the target variable\n",
    "df['CSUSHPINSA'].value_counts().to_frame()"
   ]
  },
  {
   "cell_type": "code",
   "execution_count": 23,
   "id": "da82d1c2",
   "metadata": {},
   "outputs": [],
   "source": [
    "#defining a fuction for percentage in each bar in a countplot\n",
    "def show_percentage(ax, total):\n",
    "    ''' Shows the representative percentage in each bar in a countplot.'''\n",
    "    for p in ax.patches:\n",
    "        percentage = f\"{100 * p.get_height()/total:.1f} %\"\n",
    "        x = p.get_x() + p.get_width() / 2 - 0.02\n",
    "        y = p.get_height()\n",
    "        ax.annotate(percentage, (x, y), fontsize=10, ha='center')"
   ]
  },
  {
   "cell_type": "code",
   "execution_count": 24,
   "id": "2a9feb08",
   "metadata": {},
   "outputs": [
    {
     "data": {
      "image/png": "[encoded data removed]",
      "text/plain": [
       "<Figure size 576x432 with 1 Axes>"
      ]
     },
     "metadata": {
      "needs_background": "light"
     },
     "output_type": "display_data"
    }
   ],
   "source": [
    "# Visualize the distribution of target\n",
    "plt.figure(figsize=(8, 6))\n",
    "ax = sns.countplot(data=df, x='CSUSHPINSA')\n",
    "show_percentage(ax, len(df))\n",
    "plt.title('Distribution of Target variable')\n",
    "plt.xlabel('CSUSHPINSA')\n",
    "plt.ylabel('Count')\n",
    "plt.show()"
   ]
  },
  {
   "cell_type": "raw",
   "id": "e91b9ef2",
   "metadata": {},
   "source": [
    "Key Observations:-\n",
    "From the above BOX plt observations we have observed that the data points in the different categories (or classes) are evenly distributed.\n",
    "In the context of CSUSHPISA: S&P/Case-Shiller U.S. National Home Price Index (Index Jan 2000=100, Seasonally Adjusted) prediction, this could mean that the CSUSHPINSA data points for occurrences and non-occurrences are properly evenly balanced."
   ]
  },
  {
   "cell_type": "code",
   "execution_count": 25,
   "id": "4233c8f5",
   "metadata": {},
   "outputs": [
    {
     "name": "stdout",
     "output_type": "stream",
     "text": [
      "Basic Statistics:\n",
      "            PERMIT      MSACSR      TLMFGCONS     UMCSENT           GDP   \n",
      "count   241.000000  241.000000     241.000000  241.000000    241.000000  \\\n",
      "mean   1309.535270    6.146058   58409.941909   82.296266  23642.166793   \n",
      "std     478.888896    1.952241   25029.210523   12.644193   5014.171112   \n",
      "min     513.000000    3.300000   19703.000000   50.000000  11174.129000   \n",
      "25%     980.000000    4.800000   37489.000000   73.200000  20037.088000   \n",
      "50%    1291.000000    5.600000   54884.000000   84.100000  26813.601000   \n",
      "75%    1680.000000    7.200000   76622.000000   93.200000  26813.601000   \n",
      "max    2263.000000   12.200000  164649.000000  103.800000  26813.601000   \n",
      "\n",
      "               MSPUS    FEDFUNDS  CSUSHPINSA  \n",
      "count     241.000000  241.000000  241.000000  \n",
      "mean   379260.165975    1.314191  181.126095  \n",
      "std     80276.735878    1.587253   41.864691  \n",
      "min    186000.000000    0.050000  127.652000  \n",
      "25%    318400.000000    0.120000  148.169000  \n",
      "50%    429000.000000    0.400000  173.451000  \n",
      "75%    429000.000000    2.000000  196.119000  \n",
      "max    479500.000000    5.260000  308.298000  \n"
     ]
    }
   ],
   "source": [
    "# Display basic Statistics\n",
    "print(\"Basic Statistics:\")\n",
    "print(df.describe())"
   ]
  },
  {
   "cell_type": "markdown",
   "id": "cddf9085",
   "metadata": {},
   "source": [
    "# Categorical variables unique values\n"
   ]
  },
  {
   "cell_type": "code",
   "execution_count": 26,
   "id": "7ca308ba",
   "metadata": {},
   "outputs": [
    {
     "name": "stdout",
     "output_type": "stream",
     "text": [
      "Numerical Columns that represent a category:\n",
      " ['PERMIT', 'MSACSR', 'TLMFGCONS', 'UMCSENT', 'GDP', 'MSPUS', 'FEDFUNDS', 'CSUSHPINSA']\n",
      "\n"
     ]
    }
   ],
   "source": [
    "# Separating Numerical and Categorical columns\n",
    "num_cat_col = ['PERMIT', 'MSACSR', 'TLMFGCONS', 'UMCSENT', 'GDP', 'MSPUS', 'FEDFUNDS', 'CSUSHPINSA']\n",
    "print(f\"Numerical Columns that represent a category:\\n {num_cat_col}\\n\")"
   ]
  },
  {
   "cell_type": "code",
   "execution_count": 27,
   "id": "156ad2b4",
   "metadata": {},
   "outputs": [
    {
     "name": "stdout",
     "output_type": "stream",
     "text": [
      "['PERMIT', 'MSACSR', 'TLMFGCONS', 'UMCSENT', 'GDP', 'MSPUS', 'FEDFUNDS']\n"
     ]
    }
   ],
   "source": [
    "# Visualize box plots for numeric colu mns\n",
    "numeric_columns = df.select_dtypes(include=['number']).columns\n",
    "numeric_columns = df.select_dtypes(include=['number']).columns\n",
    "numeric_columns = [col for col in numeric_columns if col != 'CSUSHPINSA']\n",
    "print(numeric_columns)"
   ]
  },
  {
   "cell_type": "code",
   "execution_count": 28,
   "id": "9974aee0",
   "metadata": {},
   "outputs": [],
   "source": [
    "#Defining The function ,performing EDA,Displaying Basic statistics,Outliers Imputations and Visulaizations\n",
    "\n",
    "def perform_eda_with_boxplots(df, outlier_threshold=1.5, impute_outliers=True):\n",
    "    \"\"\"\n",
    "    Perform EDA with box plots, and optionally handle outliers by imputing them.\n",
    "\n",
    "    Parameters:\n",
    "    - df (pd.DataFrame): The DataFrame to analyze.\n",
    "    - outlier_threshold (float): The threshold to identify outliers. Default is 1.5.\n",
    "    - impute_outliers (bool): Whether to impute outliers. Default is True.\n",
    "    \"\"\"\n",
    "    # Display basic\n",
    "    print(\"Basic Statistics:\")\n",
    "    print(df.describe())\n",
    "\n",
    "    # Display information about data types and missing values\n",
    "    print(\"\\nData Types and Missing Values:\")\n",
    "    print(df.info())\n",
    "\n",
    "    # Visualize box plots for numeric columns\n",
    "    numeric_columns = df.select_dtypes(include=['number']).columns\n",
    "    numeric_columns = df.select_dtypes(include=['number']).columns\n",
    "    numeric_columns = [col for col in numeric_columns if col != 'CSUSHPINSA']\n",
    "    print(numeric_columns)\n",
    "    \n",
    "    for column in numeric_columns:\n",
    "        plt.figure(figsize=(10, 6))\n",
    "        sns.boxplot(x=df[column])\n",
    "        plt.title(f'Box Plot of {column} (Before Outlier Imputation)')\n",
    "        plt.show()\n",
    "   \n",
    "    #imputing outliers\n",
    "    for column in numeric_columns:\n",
    "        if impute_outliers:\n",
    "            # Identify and impute outliers\n",
    "            q1 = df[column].quantile(0.25)\n",
    "            q3 = df[column].quantile(0.75)\n",
    "            iqr = q3 - q1\n",
    "            lower_bound = q1 - outlier_threshold * iqr\n",
    "            upper_bound = q3 + outlier_threshold * iqr\n",
    "\n",
    "            # Impute outliers with median\n",
    "            df[column] = df[column].apply(lambda x: x if lower_bound <= x <= upper_bound else df[column].median())\n",
    "\n",
    "    # Visualize updated box plots after outlier imputation"
   ]
  },
  {
   "cell_type": "code",
   "execution_count": 29,
   "id": "0d0c3272",
   "metadata": {},
   "outputs": [
    {
     "name": "stdout",
     "output_type": "stream",
     "text": [
      "Basic Statistics:\n",
      "            PERMIT      MSACSR      TLMFGCONS     UMCSENT           GDP   \n",
      "count   241.000000  241.000000     241.000000  241.000000    241.000000  \\\n",
      "mean   1309.535270    6.146058   58409.941909   82.296266  23642.166793   \n",
      "std     478.888896    1.952241   25029.210523   12.644193   5014.171112   \n",
      "min     513.000000    3.300000   19703.000000   50.000000  11174.129000   \n",
      "25%     980.000000    4.800000   37489.000000   73.200000  20037.088000   \n",
      "50%    1291.000000    5.600000   54884.000000   84.100000  26813.601000   \n",
      "75%    1680.000000    7.200000   76622.000000   93.200000  26813.601000   \n",
      "max    2263.000000   12.200000  164649.000000  103.800000  26813.601000   \n",
      "\n",
      "               MSPUS    FEDFUNDS  CSUSHPINSA  \n",
      "count     241.000000  241.000000  241.000000  \n",
      "mean   379260.165975    1.314191  181.126095  \n",
      "std     80276.735878    1.587253   41.864691  \n",
      "min    186000.000000    0.050000  127.652000  \n",
      "25%    318400.000000    0.120000  148.169000  \n",
      "50%    429000.000000    0.400000  173.451000  \n",
      "75%    429000.000000    2.000000  196.119000  \n",
      "max    479500.000000    5.260000  308.298000  \n",
      "\n",
      "Data Types and Missing Values:\n",
      "<class 'pandas.core.frame.DataFrame'>\n",
      "RangeIndex: 241 entries, 0 to 240\n",
      "Data columns (total 9 columns):\n",
      " #   Column      Non-Null Count  Dtype  \n",
      "---  ------      --------------  -----  \n",
      " 0   DATE        241 non-null    object \n",
      " 1   PERMIT      241 non-null    int64  \n",
      " 2   MSACSR      241 non-null    float64\n",
      " 3   TLMFGCONS   241 non-null    int64  \n",
      " 4   UMCSENT     241 non-null    float64\n",
      " 5   GDP         241 non-null    float64\n",
      " 6   MSPUS       241 non-null    float64\n",
      " 7   FEDFUNDS    241 non-null    float64\n",
      " 8   CSUSHPINSA  241 non-null    float64\n",
      "dtypes: float64(6), int64(2), object(1)\n",
      "memory usage: 17.1+ KB\n",
      "None\n",
      "['PERMIT', 'MSACSR', 'TLMFGCONS', 'UMCSENT', 'GDP', 'MSPUS', 'FEDFUNDS']\n"
     ]
    },
    {
     "data": {
      "image/png": "[encoded data removed]",
      "text/plain": [
       "<Figure size 720x432 with 1 Axes>"
      ]
     },
     "metadata": {
      "needs_background": "light"
     },
     "output_type": "display_data"
    },
    {
     "data": {
      "image/png": "[encoded data removed]",
      "text/plain": [
       "<Figure size 720x432 with 1 Axes>"
      ]
     },
     "metadata": {
      "needs_background": "light"
     },
     "output_type": "display_data"
    },
    {
     "data": {
      "image/png": "[encoded data removed]",
      "text/plain": [
       "<Figure size 720x432 with 1 Axes>"
      ]
     },
     "metadata": {
      "needs_background": "light"
     },
     "output_type": "display_data"
    },
    {
     "data": {
      "image/png": "[encoded data removed]",
      "text/plain": [
       "<Figure size 720x432 with 1 Axes>"
      ]
     },
     "metadata": {
      "needs_background": "light"
     },
     "output_type": "display_data"
    },
    {
     "data": {
      "image/png": "[encoded data removed]",
      "text/plain": [
       "<Figure size 720x432 with 1 Axes>"
      ]
     },
     "metadata": {
      "needs_background": "light"
     },
     "output_type": "display_data"
    },
    {
     "data": {
      "image/png": "[encoded data removed]",
      "text/plain": [
       "<Figure size 720x432 with 1 Axes>"
      ]
     },
     "metadata": {
      "needs_background": "light"
     },
     "output_type": "display_data"
    },
    {
     "data": {
      "image/png": "[encoded data removed]",
      "text/plain": [
       "<Figure size 720x432 with 1 Axes>"
      ]
     },
     "metadata": {
      "needs_background": "light"
     },
     "output_type": "display_data"
    }
   ],
   "source": [
    "#DATA Analysis before Outlier Imputation\n",
    "perform_eda_with_boxplots(df, outlier_threshold=1.5, impute_outliers=True)"
   ]
  },
  {
   "cell_type": "code",
   "execution_count": 30,
   "id": "67255d40",
   "metadata": {},
   "outputs": [
    {
     "data": {
      "image/png": "[encoded data removed]",
      "text/plain": [
       "<Figure size 720x432 with 1 Axes>"
      ]
     },
     "metadata": {
      "needs_background": "light"
     },
     "output_type": "display_data"
    },
    {
     "data": {
      "image/png": "[encoded data removed]",
      "text/plain": [
       "<Figure size 720x432 with 1 Axes>"
      ]
     },
     "metadata": {
      "needs_background": "light"
     },
     "output_type": "display_data"
    },
    {
     "data": {
      "image/png": "[encoded data removed]",
      "text/plain": [
       "<Figure size 720x432 with 1 Axes>"
      ]
     },
     "metadata": {
      "needs_background": "light"
     },
     "output_type": "display_data"
    },
    {
     "data": {
      "image/png": "[encoded data removed]",
      "text/plain": [
       "<Figure size 720x432 with 1 Axes>"
      ]
     },
     "metadata": {
      "needs_background": "light"
     },
     "output_type": "display_data"
    },
    {
     "data": {
      "image/png": "[encoded data removed]",
      "text/plain": [
       "<Figure size 720x432 with 1 Axes>"
      ]
     },
     "metadata": {
      "needs_background": "light"
     },
     "output_type": "display_data"
    },
    {
     "data": {
      "image/png": "[encoded data removed]",
      "text/plain": [
       "<Figure size 720x432 with 1 Axes>"
      ]
     },
     "metadata": {
      "needs_background": "light"
     },
     "output_type": "display_data"
    },
    {
     "data": {
      "image/png": "[encoded data removed]",
      "text/plain": [
       "<Figure size 720x432 with 1 Axes>"
      ]
     },
     "metadata": {
      "needs_background": "light"
     },
     "output_type": "display_data"
    },
    {
     "data": {
      "image/png": "[encoded data removed]",
      "text/plain": [
       "<Figure size 720x432 with 1 Axes>"
      ]
     },
     "metadata": {
      "needs_background": "light"
     },
     "output_type": "display_data"
    }
   ],
   "source": [
    "#Data Analysis after outlier Imputation\n",
    "numeric_columns = df.select_dtypes(include=['number']).columns\n",
    "for column in numeric_columns:\n",
    "    plt.figure(figsize=(10, 6))\n",
    "    sns.boxplot(x=df[column])\n",
    "    plt.title(f'Box Plot of {column} (After Outlier Imputation)')\n",
    "    plt.show()"
   ]
  },
  {
   "cell_type": "code",
   "execution_count": 31,
   "id": "f6ba8774",
   "metadata": {},
   "outputs": [],
   "source": [
    "#converting categorical datas into numeric datas\n",
    "def convert_to_categorical(df):\n",
    "    for column in df.select_dtypes(exclude=['number']).columns:\n",
    "        df[column] = df[column].astype('category')\n",
    "    return df\n",
    "df = convert_to_categorical(df)"
   ]
  },
  {
   "cell_type": "code",
   "execution_count": 32,
   "id": "0eb4c1b3",
   "metadata": {},
   "outputs": [
    {
     "data": {
      "text/plain": [
       "(0, 9)"
      ]
     },
     "execution_count": 32,
     "metadata": {},
     "output_type": "execute_result"
    }
   ],
   "source": [
    "# Searching for duplicated values\n",
    "df[df.duplicated()].shape"
   ]
  },
  {
   "cell_type": "markdown",
   "id": "de1c34a1",
   "metadata": {},
   "source": [
    "The dataset does not have duplicate values."
   ]
  },
  {
   "cell_type": "markdown",
   "id": "d0aa5e8f",
   "metadata": {},
   "source": [
    "# Data Visualization"
   ]
  },
  {
   "cell_type": "code",
   "execution_count": 33,
   "id": "fcd2c81f",
   "metadata": {},
   "outputs": [
    {
     "data": {
      "image/png": "[encoded data removed]",
      "text/plain": [
       "<Figure size 360x216 with 1 Axes>"
      ]
     },
     "metadata": {
      "needs_background": "light"
     },
     "output_type": "display_data"
    }
   ],
   "source": [
    "# Set the custom palette\n",
    "sns.set_palette('Pastel1')\n",
    "\n",
    "# Visualize the frequency of Attrition\n",
    "plt.figure(figsize=(5, 3))\n",
    "ax = sns.countplot(x='CSUSHPINSA', data=df)\n",
    "show_percentage(ax, len(df)) \n",
    "\n",
    "plt.xlabel('CSUSHPINSA', size=10, labelpad=8)\n",
    "plt.ylabel('', size=10, labelpad=8)\n",
    "plt.xticks((0, 1), ['YES', 'NO'], size=10)\n",
    "plt.title(f\"Frequency of CSUSHPINSA\", size=14, y=1.05);"
   ]
  },
  {
   "cell_type": "raw",
   "id": "20093720",
   "metadata": {},
   "source": [
    "The target variable is balanced."
   ]
  },
  {
   "cell_type": "code",
   "execution_count": 34,
   "id": "58bdc73c",
   "metadata": {},
   "outputs": [
    {
     "data": {
      "text/html": [
       "<div>\n",
       "<style scoped>\n",
       "    .dataframe tbody tr th:only-of-type {\n",
       "        vertical-align: middle;\n",
       "    }\n",
       "\n",
       "    .dataframe tbody tr th {\n",
       "        vertical-align: top;\n",
       "    }\n",
       "\n",
       "    .dataframe thead th {\n",
       "        text-align: right;\n",
       "    }\n",
       "</style>\n",
       "<table border=\"1\" class=\"dataframe\">\n",
       "  <thead>\n",
       "    <tr style=\"text-align: right;\">\n",
       "      <th></th>\n",
       "      <th>no.</th>\n",
       "      <th>%</th>\n",
       "    </tr>\n",
       "    <tr>\n",
       "      <th>PERMIT</th>\n",
       "      <th></th>\n",
       "      <th></th>\n",
       "    </tr>\n",
       "  </thead>\n",
       "  <tbody>\n",
       "    <tr>\n",
       "      <th>1254</th>\n",
       "      <td>3</td>\n",
       "      <td>1.24</td>\n",
       "    </tr>\n",
       "    <tr>\n",
       "      <th>1094</th>\n",
       "      <td>2</td>\n",
       "      <td>0.83</td>\n",
       "    </tr>\n",
       "    <tr>\n",
       "      <th>2150</th>\n",
       "      <td>2</td>\n",
       "      <td>0.83</td>\n",
       "    </tr>\n",
       "    <tr>\n",
       "      <th>1338</th>\n",
       "      <td>2</td>\n",
       "      <td>0.83</td>\n",
       "    </tr>\n",
       "    <tr>\n",
       "      <th>1320</th>\n",
       "      <td>2</td>\n",
       "      <td>0.83</td>\n",
       "    </tr>\n",
       "    <tr>\n",
       "      <th>...</th>\n",
       "      <td>...</td>\n",
       "      <td>...</td>\n",
       "    </tr>\n",
       "    <tr>\n",
       "      <th>650</th>\n",
       "      <td>1</td>\n",
       "      <td>0.41</td>\n",
       "    </tr>\n",
       "    <tr>\n",
       "      <th>687</th>\n",
       "      <td>1</td>\n",
       "      <td>0.41</td>\n",
       "    </tr>\n",
       "    <tr>\n",
       "      <th>637</th>\n",
       "      <td>1</td>\n",
       "      <td>0.41</td>\n",
       "    </tr>\n",
       "    <tr>\n",
       "      <th>575</th>\n",
       "      <td>1</td>\n",
       "      <td>0.41</td>\n",
       "    </tr>\n",
       "    <tr>\n",
       "      <th>1354</th>\n",
       "      <td>1</td>\n",
       "      <td>0.41</td>\n",
       "    </tr>\n",
       "  </tbody>\n",
       "</table>\n",
       "<p>227 rows × 2 columns</p>\n",
       "</div>"
      ],
      "text/plain": [
       "        no.     %\n",
       "PERMIT           \n",
       "1254      3  1.24\n",
       "1094      2  0.83\n",
       "2150      2  0.83\n",
       "1338      2  0.83\n",
       "1320      2  0.83\n",
       "...     ...   ...\n",
       "650       1  0.41\n",
       "687       1  0.41\n",
       "637       1  0.41\n",
       "575       1  0.41\n",
       "1354      1  0.41\n",
       "\n",
       "[227 rows x 2 columns]"
      ]
     },
     "execution_count": 34,
     "metadata": {},
     "output_type": "execute_result"
    },
    {
     "data": {
      "image/png": "[encoded data removed]",
      "text/plain": [
       "<Figure size 864x216 with 1 Axes>"
      ]
     },
     "metadata": {
      "needs_background": "light"
     },
     "output_type": "display_data"
    }
   ],
   "source": [
    "# Visualize the frequency of New Houses PERMIT\n",
    "plt.figure(figsize=(12, 3))\n",
    "ax = sns.countplot(y='PERMIT', data=df)\n",
    "\n",
    "plt.xlabel('', size=10, labelpad=8)\n",
    "plt.ylabel('', size=10, labelpad=8)\n",
    "plt.title(f\"PERMIT\", size=14, y=1.05)\n",
    "\n",
    "house_permit = df.PERMIT.value_counts().to_frame(\"no.\")\n",
    "house_permit[\"%\"] = round(df.PERMIT.value_counts(normalize=True) * 100, 2)\n",
    "house_permit"
   ]
  },
  {
   "cell_type": "markdown",
   "id": "7962d4ee",
   "metadata": {},
   "source": [
    "# Plotting density plot for all the numerical features"
   ]
  },
  {
   "cell_type": "code",
   "execution_count": 36,
   "id": "ab2bceef",
   "metadata": {},
   "outputs": [],
   "source": [
    "df['DATE'] = pd.to_datetime(df['DATE'], format='%d-%m-%Y')"
   ]
  },
  {
   "cell_type": "code",
   "execution_count": 37,
   "id": "cecb24e2",
   "metadata": {},
   "outputs": [
    {
     "data": {
      "text/html": [
       "<div>\n",
       "<style scoped>\n",
       "    .dataframe tbody tr th:only-of-type {\n",
       "        vertical-align: middle;\n",
       "    }\n",
       "\n",
       "    .dataframe tbody tr th {\n",
       "        vertical-align: top;\n",
       "    }\n",
       "\n",
       "    .dataframe thead th {\n",
       "        text-align: right;\n",
       "    }\n",
       "</style>\n",
       "<table border=\"1\" class=\"dataframe\">\n",
       "  <thead>\n",
       "    <tr style=\"text-align: right;\">\n",
       "      <th></th>\n",
       "      <th>DATE</th>\n",
       "      <th>PERMIT</th>\n",
       "      <th>MSACSR</th>\n",
       "      <th>TLMFGCONS</th>\n",
       "      <th>UMCSENT</th>\n",
       "      <th>GDP</th>\n",
       "      <th>MSPUS</th>\n",
       "      <th>FEDFUNDS</th>\n",
       "      <th>CSUSHPINSA</th>\n",
       "    </tr>\n",
       "  </thead>\n",
       "  <tbody>\n",
       "    <tr>\n",
       "      <th>DATE</th>\n",
       "      <td>1.000000</td>\n",
       "      <td>-0.127757</td>\n",
       "      <td>0.054781</td>\n",
       "      <td>0.900432</td>\n",
       "      <td>-0.034268</td>\n",
       "      <td>0.815081</td>\n",
       "      <td>0.799061</td>\n",
       "      <td>-0.163748</td>\n",
       "      <td>0.745779</td>\n",
       "    </tr>\n",
       "    <tr>\n",
       "      <th>PERMIT</th>\n",
       "      <td>-0.127757</td>\n",
       "      <td>1.000000</td>\n",
       "      <td>-0.383747</td>\n",
       "      <td>-0.124902</td>\n",
       "      <td>0.419985</td>\n",
       "      <td>-0.634450</td>\n",
       "      <td>-0.652623</td>\n",
       "      <td>0.454421</td>\n",
       "      <td>0.375310</td>\n",
       "    </tr>\n",
       "    <tr>\n",
       "      <th>MSACSR</th>\n",
       "      <td>0.054781</td>\n",
       "      <td>-0.383747</td>\n",
       "      <td>1.000000</td>\n",
       "      <td>0.205302</td>\n",
       "      <td>-0.497980</td>\n",
       "      <td>0.193526</td>\n",
       "      <td>0.190627</td>\n",
       "      <td>0.150747</td>\n",
       "      <td>0.206419</td>\n",
       "    </tr>\n",
       "    <tr>\n",
       "      <th>TLMFGCONS</th>\n",
       "      <td>0.900432</td>\n",
       "      <td>-0.124902</td>\n",
       "      <td>0.205302</td>\n",
       "      <td>1.000000</td>\n",
       "      <td>-0.122840</td>\n",
       "      <td>0.712520</td>\n",
       "      <td>0.703593</td>\n",
       "      <td>-0.076881</td>\n",
       "      <td>0.750548</td>\n",
       "    </tr>\n",
       "    <tr>\n",
       "      <th>UMCSENT</th>\n",
       "      <td>-0.034268</td>\n",
       "      <td>0.419985</td>\n",
       "      <td>-0.497980</td>\n",
       "      <td>-0.122840</td>\n",
       "      <td>1.000000</td>\n",
       "      <td>-0.203057</td>\n",
       "      <td>-0.203186</td>\n",
       "      <td>0.152222</td>\n",
       "      <td>-0.111947</td>\n",
       "    </tr>\n",
       "    <tr>\n",
       "      <th>GDP</th>\n",
       "      <td>0.815081</td>\n",
       "      <td>-0.634450</td>\n",
       "      <td>0.193526</td>\n",
       "      <td>0.712520</td>\n",
       "      <td>-0.203057</td>\n",
       "      <td>1.000000</td>\n",
       "      <td>0.990394</td>\n",
       "      <td>-0.412133</td>\n",
       "      <td>0.313883</td>\n",
       "    </tr>\n",
       "    <tr>\n",
       "      <th>MSPUS</th>\n",
       "      <td>0.799061</td>\n",
       "      <td>-0.652623</td>\n",
       "      <td>0.190627</td>\n",
       "      <td>0.703593</td>\n",
       "      <td>-0.203186</td>\n",
       "      <td>0.990394</td>\n",
       "      <td>1.000000</td>\n",
       "      <td>-0.456998</td>\n",
       "      <td>0.288878</td>\n",
       "    </tr>\n",
       "    <tr>\n",
       "      <th>FEDFUNDS</th>\n",
       "      <td>-0.163748</td>\n",
       "      <td>0.454421</td>\n",
       "      <td>0.150747</td>\n",
       "      <td>-0.076881</td>\n",
       "      <td>0.152222</td>\n",
       "      <td>-0.412133</td>\n",
       "      <td>-0.456998</td>\n",
       "      <td>1.000000</td>\n",
       "      <td>0.194547</td>\n",
       "    </tr>\n",
       "    <tr>\n",
       "      <th>CSUSHPINSA</th>\n",
       "      <td>0.745779</td>\n",
       "      <td>0.375310</td>\n",
       "      <td>0.206419</td>\n",
       "      <td>0.750548</td>\n",
       "      <td>-0.111947</td>\n",
       "      <td>0.313883</td>\n",
       "      <td>0.288878</td>\n",
       "      <td>0.194547</td>\n",
       "      <td>1.000000</td>\n",
       "    </tr>\n",
       "  </tbody>\n",
       "</table>\n",
       "</div>"
      ],
      "text/plain": [
       "                DATE    PERMIT    MSACSR  TLMFGCONS   UMCSENT       GDP   \n",
       "DATE        1.000000 -0.127757  0.054781   0.900432 -0.034268  0.815081  \\\n",
       "PERMIT     -0.127757  1.000000 -0.383747  -0.124902  0.419985 -0.634450   \n",
       "MSACSR      0.054781 -0.383747  1.000000   0.205302 -0.497980  0.193526   \n",
       "TLMFGCONS   0.900432 -0.124902  0.205302   1.000000 -0.122840  0.712520   \n",
       "UMCSENT    -0.034268  0.419985 -0.497980  -0.122840  1.000000 -0.203057   \n",
       "GDP         0.815081 -0.634450  0.193526   0.712520 -0.203057  1.000000   \n",
       "MSPUS       0.799061 -0.652623  0.190627   0.703593 -0.203186  0.990394   \n",
       "FEDFUNDS   -0.163748  0.454421  0.150747  -0.076881  0.152222 -0.412133   \n",
       "CSUSHPINSA  0.745779  0.375310  0.206419   0.750548 -0.111947  0.313883   \n",
       "\n",
       "               MSPUS  FEDFUNDS  CSUSHPINSA  \n",
       "DATE        0.799061 -0.163748    0.745779  \n",
       "PERMIT     -0.652623  0.454421    0.375310  \n",
       "MSACSR      0.190627  0.150747    0.206419  \n",
       "TLMFGCONS   0.703593 -0.076881    0.750548  \n",
       "UMCSENT    -0.203186  0.152222   -0.111947  \n",
       "GDP         0.990394 -0.412133    0.313883  \n",
       "MSPUS       1.000000 -0.456998    0.288878  \n",
       "FEDFUNDS   -0.456998  1.000000    0.194547  \n",
       "CSUSHPINSA  0.288878  0.194547    1.000000  "
      ]
     },
     "execution_count": 37,
     "metadata": {},
     "output_type": "execute_result"
    }
   ],
   "source": [
    "# Correlation\n",
    "df.corr()"
   ]
  },
  {
   "cell_type": "raw",
   "id": "7a61b774",
   "metadata": {},
   "source": [
    "Key Observations:-From the above correlation Matrix, we found the following statistical realtions among the various features:\n",
    "1.DATE and TLMFGCONS: There is a strong positive correlation of 0.90, indicating that as the date progresses (or over time), the Total Manufacturing Construction (TLMFGCONS) also increases.\n",
    "\n",
    "2.GDP and MSPUS: There is a very strong positive correlation of 0.99, suggesting that as the Gross Domestic Product (GDP) increases, the median sales price of houses in the US (MSPUS) also increases.\n",
    "\n",
    "3.PERMIT and GDP/MSPUS: There is a strong negative correlation of -0.63 and -0.65 respectively, indicating that as the number of permits increases, both GDP and MSPUS tend to decrease.\n",
    "\n",
    "4.UMCSENT and MSACSR: There is a moderate negative correlation of -0.49, suggesting that as the University of Michigan: Consumer Sentiment (UMCSENT) increases, the MSA: Construction: Single-family residential (MSACSR) tends to decrease.\n",
    "\n",
    "5.CSUSHPINSA and TLMFGCONS: There is a strong positive correlation of 0.75, indicating that as the S&P/Case-Shiller U.S. National Home Price Index (CSUSHPINSA) increases, the Total Manufacturing Construction (TLMFGCONS) also increases."
   ]
  },
  {
   "cell_type": "code",
   "execution_count": 38,
   "id": "3a69c865",
   "metadata": {},
   "outputs": [
    {
     "data": {
      "text/html": [
       "<div>\n",
       "<style scoped>\n",
       "    .dataframe tbody tr th:only-of-type {\n",
       "        vertical-align: middle;\n",
       "    }\n",
       "\n",
       "    .dataframe tbody tr th {\n",
       "        vertical-align: top;\n",
       "    }\n",
       "\n",
       "    .dataframe thead th {\n",
       "        text-align: right;\n",
       "    }\n",
       "</style>\n",
       "<table border=\"1\" class=\"dataframe\">\n",
       "  <thead>\n",
       "    <tr style=\"text-align: right;\">\n",
       "      <th></th>\n",
       "      <th>DATE</th>\n",
       "      <th>PERMIT</th>\n",
       "      <th>MSACSR</th>\n",
       "      <th>TLMFGCONS</th>\n",
       "      <th>UMCSENT</th>\n",
       "      <th>GDP</th>\n",
       "      <th>MSPUS</th>\n",
       "      <th>FEDFUNDS</th>\n",
       "      <th>CSUSHPINSA</th>\n",
       "    </tr>\n",
       "  </thead>\n",
       "  <tbody>\n",
       "    <tr>\n",
       "      <th>count</th>\n",
       "      <td>241</td>\n",
       "      <td>241.000000</td>\n",
       "      <td>241.000000</td>\n",
       "      <td>241.000000</td>\n",
       "      <td>241.000000</td>\n",
       "      <td>241.000000</td>\n",
       "      <td>241.000000</td>\n",
       "      <td>241.000000</td>\n",
       "      <td>241.000000</td>\n",
       "    </tr>\n",
       "    <tr>\n",
       "      <th>mean</th>\n",
       "      <td>2012-12-30 22:18:25.394190848</td>\n",
       "      <td>1309.535270</td>\n",
       "      <td>5.978423</td>\n",
       "      <td>57954.485477</td>\n",
       "      <td>82.296266</td>\n",
       "      <td>23642.166793</td>\n",
       "      <td>379260.165975</td>\n",
       "      <td>0.976639</td>\n",
       "      <td>181.126095</td>\n",
       "    </tr>\n",
       "    <tr>\n",
       "      <th>min</th>\n",
       "      <td>2003-01-01 00:00:00</td>\n",
       "      <td>513.000000</td>\n",
       "      <td>3.300000</td>\n",
       "      <td>19703.000000</td>\n",
       "      <td>50.000000</td>\n",
       "      <td>11174.129000</td>\n",
       "      <td>186000.000000</td>\n",
       "      <td>0.050000</td>\n",
       "      <td>127.652000</td>\n",
       "    </tr>\n",
       "    <tr>\n",
       "      <th>25%</th>\n",
       "      <td>2008-01-01 00:00:00</td>\n",
       "      <td>980.000000</td>\n",
       "      <td>4.800000</td>\n",
       "      <td>37489.000000</td>\n",
       "      <td>73.200000</td>\n",
       "      <td>20037.088000</td>\n",
       "      <td>318400.000000</td>\n",
       "      <td>0.120000</td>\n",
       "      <td>148.169000</td>\n",
       "    </tr>\n",
       "    <tr>\n",
       "      <th>50%</th>\n",
       "      <td>2013-01-01 00:00:00</td>\n",
       "      <td>1291.000000</td>\n",
       "      <td>5.600000</td>\n",
       "      <td>54884.000000</td>\n",
       "      <td>84.100000</td>\n",
       "      <td>26813.601000</td>\n",
       "      <td>429000.000000</td>\n",
       "      <td>0.400000</td>\n",
       "      <td>173.451000</td>\n",
       "    </tr>\n",
       "    <tr>\n",
       "      <th>75%</th>\n",
       "      <td>2018-01-01 00:00:00</td>\n",
       "      <td>1680.000000</td>\n",
       "      <td>6.800000</td>\n",
       "      <td>76513.000000</td>\n",
       "      <td>93.200000</td>\n",
       "      <td>26813.601000</td>\n",
       "      <td>429000.000000</td>\n",
       "      <td>1.550000</td>\n",
       "      <td>196.119000</td>\n",
       "    </tr>\n",
       "    <tr>\n",
       "      <th>max</th>\n",
       "      <td>2023-01-01 00:00:00</td>\n",
       "      <td>2263.000000</td>\n",
       "      <td>10.700000</td>\n",
       "      <td>133244.000000</td>\n",
       "      <td>103.800000</td>\n",
       "      <td>26813.601000</td>\n",
       "      <td>479500.000000</td>\n",
       "      <td>4.790000</td>\n",
       "      <td>308.298000</td>\n",
       "    </tr>\n",
       "    <tr>\n",
       "      <th>std</th>\n",
       "      <td>NaN</td>\n",
       "      <td>478.888896</td>\n",
       "      <td>1.729340</td>\n",
       "      <td>24068.169910</td>\n",
       "      <td>12.644193</td>\n",
       "      <td>5014.171112</td>\n",
       "      <td>80276.735878</td>\n",
       "      <td>1.183924</td>\n",
       "      <td>41.864691</td>\n",
       "    </tr>\n",
       "  </tbody>\n",
       "</table>\n",
       "</div>"
      ],
      "text/plain": [
       "                                DATE       PERMIT      MSACSR      TLMFGCONS   \n",
       "count                            241   241.000000  241.000000     241.000000  \\\n",
       "mean   2012-12-30 22:18:25.394190848  1309.535270    5.978423   57954.485477   \n",
       "min              2003-01-01 00:00:00   513.000000    3.300000   19703.000000   \n",
       "25%              2008-01-01 00:00:00   980.000000    4.800000   37489.000000   \n",
       "50%              2013-01-01 00:00:00  1291.000000    5.600000   54884.000000   \n",
       "75%              2018-01-01 00:00:00  1680.000000    6.800000   76513.000000   \n",
       "max              2023-01-01 00:00:00  2263.000000   10.700000  133244.000000   \n",
       "std                              NaN   478.888896    1.729340   24068.169910   \n",
       "\n",
       "          UMCSENT           GDP          MSPUS    FEDFUNDS  CSUSHPINSA  \n",
       "count  241.000000    241.000000     241.000000  241.000000  241.000000  \n",
       "mean    82.296266  23642.166793  379260.165975    0.976639  181.126095  \n",
       "min     50.000000  11174.129000  186000.000000    0.050000  127.652000  \n",
       "25%     73.200000  20037.088000  318400.000000    0.120000  148.169000  \n",
       "50%     84.100000  26813.601000  429000.000000    0.400000  173.451000  \n",
       "75%     93.200000  26813.601000  429000.000000    1.550000  196.119000  \n",
       "max    103.800000  26813.601000  479500.000000    4.790000  308.298000  \n",
       "std     12.644193   5014.171112   80276.735878    1.183924   41.864691  "
      ]
     },
     "execution_count": 38,
     "metadata": {},
     "output_type": "execute_result"
    }
   ],
   "source": [
    "df.describe()"
   ]
  },
  {
   "cell_type": "markdown",
   "id": "f147b73a",
   "metadata": {},
   "source": [
    "# Key Observations:-\n",
    "\n",
    "From the above satistical data of sevral parametrs,we observed that \n",
    "Permit (PERMIT):\n",
    "Range: From 513 to 2263 permits.\n",
    "Mean: Approximately 1309.54 permits.\n",
    "Standard Deviation: Around 478.89 permits.\n",
    "There is a noticeable variation in the number of permits issued.\n",
    "\n",
    "MSACSR:\n",
    "Range: Varies from 3.3% to 10.7%.\n",
    "Mean: Approximately 5.98%.\n",
    "Standard Deviation: About 1.73%.\n",
    "Indicates variability in the Mortgage Credit Availability Index.\n",
    "\n",
    "TLMFGCONS:\n",
    "Range: From 19,703 to 133,244.\n",
    "Mean: Around 57,954.49.\n",
    "Standard Deviation: Approximately 24,068.17.\n",
    "Shows a wide range in the total manufactured goods consumption.\n",
    "\n",
    "UMCSENT:\n",
    "Range: From 50 to 103.8.\n",
    "Mean: Approximately 82.30.\n",
    "Standard Deviation: About 12.64.\n",
    "Indicates the Consumer Sentiment Index with a relatively large standard deviation.\n",
    "\n",
    "GDP:\n",
    "Range: From 11,174.13 to 26,813.60.\n",
    "Mean: Approximately 23,642.17.\n",
    "Standard Deviation: Around 5,014.17.\n",
    "Reflects the Gross Domestic Product with a noticeable range.\n",
    "\n",
    "MSPUS:\n",
    "Range: From 186,000 to 479,500 dollars.\n",
    "Mean: Approximately 379,260.17 dollars.\n",
    "Standard Deviation: About 80,276.74 dollars.\n",
    "Represents the Median Sales Price of Houses Sold.\n",
    "\n",
    "FEDFUNDS:\n",
    "Range: Varies from 0.05 to 4.79.\n",
    "Mean: Approximately 0.98.\n",
    "Standard Deviation: About 1.18.\n",
    "Shows the Federal Funds Rate with a relatively large standard deviation.\n",
    "\n",
    "CSUSHPINSA:\n",
    "Range: From 127.65 to 308.30.\n",
    "Mean: Approximately 181.13.\n",
    "Standard Deviation: About 41.86.\n",
    "Represents the Case-Shiller U.S. National Home Price NSA Index.\n",
    "\n",
    "The dataset seems to cover various economic indicators, including housing, consumer sentiment, and financial variables.\n",
    "The standard deviations for some variables are relatively large, indicating variability in the data."
   ]
  },
  {
   "cell_type": "code",
   "execution_count": 39,
   "id": "52f0d1ee",
   "metadata": {},
   "outputs": [
    {
     "data": {
      "image/png": "[encoded data removed]",
      "text/plain": [
       "<Figure size 432x288 with 1 Axes>"
      ]
     },
     "metadata": {
      "needs_background": "light"
     },
     "output_type": "display_data"
    },
    {
     "data": {
      "image/png": "[encoded data removed]",
      "text/plain": [
       "<Figure size 432x288 with 1 Axes>"
      ]
     },
     "metadata": {
      "needs_background": "light"
     },
     "output_type": "display_data"
    },
    {
     "data": {
      "image/png": "[encoded data removed]",
      "text/plain": [
       "<Figure size 432x288 with 1 Axes>"
      ]
     },
     "metadata": {
      "needs_background": "light"
     },
     "output_type": "display_data"
    },
    {
     "data": {
      "image/png": "[encoded data removed]",
      "text/plain": [
       "<Figure size 432x288 with 1 Axes>"
      ]
     },
     "metadata": {
      "needs_background": "light"
     },
     "output_type": "display_data"
    },
    {
     "data": {
      "image/png": "[encoded data removed]",
      "text/plain": [
       "<Figure size 432x288 with 1 Axes>"
      ]
     },
     "metadata": {
      "needs_background": "light"
     },
     "output_type": "display_data"
    },
    {
     "data": {
      "image/png": "[encoded data removed]",
      "text/plain": [
       "<Figure size 432x288 with 1 Axes>"
      ]
     },
     "metadata": {
      "needs_background": "light"
     },
     "output_type": "display_data"
    },
    {
     "data": {
      "image/png": "[encoded data removed]",
      "text/plain": [
       "<Figure size 432x288 with 1 Axes>"
      ]
     },
     "metadata": {
      "needs_background": "light"
     },
     "output_type": "display_data"
    }
   ],
   "source": [
    "# Separating the target variable and the independent variable\n",
    "x = df.drop(['DATE', 'CSUSHPINSA'], axis=1)\n",
    "y = df['CSUSHPINSA']\n",
    "\n",
    "# Plotting scatter plots of the U.S. National Home Price Index vs features\n",
    "for feature in x.columns:\n",
    "    plt.figure()\n",
    "    plt.scatter(x = x[feature], y = y)\n",
    "    plt.xlabel(feature)\n",
    "    plt.ylabel(\"U.S. National Home Price Index\")\n",
    "    plt.title(f\"U.S. National Home Price Index vs {feature}\")"
   ]
  },
  {
   "cell_type": "code",
   "execution_count": 40,
   "id": "871c11a7",
   "metadata": {},
   "outputs": [
    {
     "data": {
      "image/png": "[encoded data removed]",
      "text/plain": [
       "<Figure size 864x720 with 9 Axes>"
      ]
     },
     "metadata": {
      "needs_background": "light"
     },
     "output_type": "display_data"
    }
   ],
   "source": [
    "# Plot histograms for all columns\n",
    "df.hist(figsize=(12, 10))\n",
    "plt.tight_layout()\n",
    "plt.show()\n"
   ]
  },
  {
   "cell_type": "code",
   "execution_count": 41,
   "id": "57f922ee",
   "metadata": {},
   "outputs": [
    {
     "data": {
      "image/png": "[encoded data removed]",
      "text/plain": [
       "<Figure size 432x288 with 2 Axes>"
      ]
     },
     "metadata": {
      "needs_background": "light"
     },
     "output_type": "display_data"
    }
   ],
   "source": [
    "# Compute and display the correlation matrix\n",
    "corr = df.corr()\n",
    "sns.heatmap(corr, annot=True, cmap='coolwarm')\n",
    "plt.show()"
   ]
  },
  {
   "cell_type": "markdown",
   "id": "0b740fc7",
   "metadata": {},
   "source": [
    "GDP and MSPUS are highly correaleted with each other."
   ]
  },
  {
   "cell_type": "code",
   "execution_count": 42,
   "id": "254838ab",
   "metadata": {},
   "outputs": [
    {
     "data": {
      "text/html": [
       "<div>\n",
       "<style scoped>\n",
       "    .dataframe tbody tr th:only-of-type {\n",
       "        vertical-align: middle;\n",
       "    }\n",
       "\n",
       "    .dataframe tbody tr th {\n",
       "        vertical-align: top;\n",
       "    }\n",
       "\n",
       "    .dataframe thead th {\n",
       "        text-align: right;\n",
       "    }\n",
       "</style>\n",
       "<table border=\"1\" class=\"dataframe\">\n",
       "  <thead>\n",
       "    <tr style=\"text-align: right;\">\n",
       "      <th></th>\n",
       "      <th>DATE</th>\n",
       "      <th>PERMIT</th>\n",
       "      <th>MSACSR</th>\n",
       "      <th>TLMFGCONS</th>\n",
       "      <th>UMCSENT</th>\n",
       "      <th>GDP</th>\n",
       "      <th>MSPUS</th>\n",
       "      <th>FEDFUNDS</th>\n",
       "      <th>CSUSHPINSA</th>\n",
       "    </tr>\n",
       "  </thead>\n",
       "  <tbody>\n",
       "    <tr>\n",
       "      <th>0</th>\n",
       "      <td>2003-01-01</td>\n",
       "      <td>1808</td>\n",
       "      <td>4.0</td>\n",
       "      <td>19703.0</td>\n",
       "      <td>82.4</td>\n",
       "      <td>11174.129</td>\n",
       "      <td>186000.0</td>\n",
       "      <td>1.24</td>\n",
       "      <td>127.652</td>\n",
       "    </tr>\n",
       "    <tr>\n",
       "      <th>1</th>\n",
       "      <td>2003-02-01</td>\n",
       "      <td>1854</td>\n",
       "      <td>4.5</td>\n",
       "      <td>19817.0</td>\n",
       "      <td>79.9</td>\n",
       "      <td>11312.766</td>\n",
       "      <td>191800.0</td>\n",
       "      <td>1.26</td>\n",
       "      <td>128.326</td>\n",
       "    </tr>\n",
       "    <tr>\n",
       "      <th>2</th>\n",
       "      <td>2003-03-01</td>\n",
       "      <td>1757</td>\n",
       "      <td>4.1</td>\n",
       "      <td>20772.0</td>\n",
       "      <td>77.6</td>\n",
       "      <td>11566.669</td>\n",
       "      <td>191900.0</td>\n",
       "      <td>1.25</td>\n",
       "      <td>129.308</td>\n",
       "    </tr>\n",
       "    <tr>\n",
       "      <th>3</th>\n",
       "      <td>2003-04-01</td>\n",
       "      <td>1803</td>\n",
       "      <td>4.1</td>\n",
       "      <td>20655.0</td>\n",
       "      <td>86.0</td>\n",
       "      <td>11772.234</td>\n",
       "      <td>198800.0</td>\n",
       "      <td>1.26</td>\n",
       "      <td>130.488</td>\n",
       "    </tr>\n",
       "    <tr>\n",
       "      <th>4</th>\n",
       "      <td>2003-05-01</td>\n",
       "      <td>1835</td>\n",
       "      <td>3.9</td>\n",
       "      <td>22157.0</td>\n",
       "      <td>92.1</td>\n",
       "      <td>11923.447</td>\n",
       "      <td>212700.0</td>\n",
       "      <td>1.26</td>\n",
       "      <td>131.839</td>\n",
       "    </tr>\n",
       "    <tr>\n",
       "      <th>...</th>\n",
       "      <td>...</td>\n",
       "      <td>...</td>\n",
       "      <td>...</td>\n",
       "      <td>...</td>\n",
       "      <td>...</td>\n",
       "      <td>...</td>\n",
       "      <td>...</td>\n",
       "      <td>...</td>\n",
       "      <td>...</td>\n",
       "    </tr>\n",
       "    <tr>\n",
       "      <th>236</th>\n",
       "      <td>2022-09-01</td>\n",
       "      <td>1588</td>\n",
       "      <td>9.7</td>\n",
       "      <td>122877.0</td>\n",
       "      <td>58.6</td>\n",
       "      <td>26813.601</td>\n",
       "      <td>429000.0</td>\n",
       "      <td>2.56</td>\n",
       "      <td>300.503</td>\n",
       "    </tr>\n",
       "    <tr>\n",
       "      <th>237</th>\n",
       "      <td>2022-10-01</td>\n",
       "      <td>1555</td>\n",
       "      <td>9.7</td>\n",
       "      <td>120839.0</td>\n",
       "      <td>59.9</td>\n",
       "      <td>26813.601</td>\n",
       "      <td>429000.0</td>\n",
       "      <td>3.08</td>\n",
       "      <td>298.731</td>\n",
       "    </tr>\n",
       "    <tr>\n",
       "      <th>238</th>\n",
       "      <td>2022-11-01</td>\n",
       "      <td>1402</td>\n",
       "      <td>9.4</td>\n",
       "      <td>131816.0</td>\n",
       "      <td>56.7</td>\n",
       "      <td>26813.601</td>\n",
       "      <td>429000.0</td>\n",
       "      <td>3.78</td>\n",
       "      <td>296.928</td>\n",
       "    </tr>\n",
       "    <tr>\n",
       "      <th>239</th>\n",
       "      <td>2022-12-01</td>\n",
       "      <td>1409</td>\n",
       "      <td>8.5</td>\n",
       "      <td>133244.0</td>\n",
       "      <td>59.8</td>\n",
       "      <td>26813.601</td>\n",
       "      <td>429000.0</td>\n",
       "      <td>4.10</td>\n",
       "      <td>294.417</td>\n",
       "    </tr>\n",
       "    <tr>\n",
       "      <th>240</th>\n",
       "      <td>2023-01-01</td>\n",
       "      <td>1354</td>\n",
       "      <td>8.1</td>\n",
       "      <td>54884.0</td>\n",
       "      <td>64.9</td>\n",
       "      <td>26813.601</td>\n",
       "      <td>429000.0</td>\n",
       "      <td>4.33</td>\n",
       "      <td>292.849</td>\n",
       "    </tr>\n",
       "  </tbody>\n",
       "</table>\n",
       "<p>241 rows × 9 columns</p>\n",
       "</div>"
      ],
      "text/plain": [
       "          DATE  PERMIT  MSACSR  TLMFGCONS  UMCSENT        GDP     MSPUS   \n",
       "0   2003-01-01    1808     4.0    19703.0     82.4  11174.129  186000.0  \\\n",
       "1   2003-02-01    1854     4.5    19817.0     79.9  11312.766  191800.0   \n",
       "2   2003-03-01    1757     4.1    20772.0     77.6  11566.669  191900.0   \n",
       "3   2003-04-01    1803     4.1    20655.0     86.0  11772.234  198800.0   \n",
       "4   2003-05-01    1835     3.9    22157.0     92.1  11923.447  212700.0   \n",
       "..         ...     ...     ...        ...      ...        ...       ...   \n",
       "236 2022-09-01    1588     9.7   122877.0     58.6  26813.601  429000.0   \n",
       "237 2022-10-01    1555     9.7   120839.0     59.9  26813.601  429000.0   \n",
       "238 2022-11-01    1402     9.4   131816.0     56.7  26813.601  429000.0   \n",
       "239 2022-12-01    1409     8.5   133244.0     59.8  26813.601  429000.0   \n",
       "240 2023-01-01    1354     8.1    54884.0     64.9  26813.601  429000.0   \n",
       "\n",
       "     FEDFUNDS  CSUSHPINSA  \n",
       "0        1.24     127.652  \n",
       "1        1.26     128.326  \n",
       "2        1.25     129.308  \n",
       "3        1.26     130.488  \n",
       "4        1.26     131.839  \n",
       "..        ...         ...  \n",
       "236      2.56     300.503  \n",
       "237      3.08     298.731  \n",
       "238      3.78     296.928  \n",
       "239      4.10     294.417  \n",
       "240      4.33     292.849  \n",
       "\n",
       "[241 rows x 9 columns]"
      ]
     },
     "execution_count": 42,
     "metadata": {},
     "output_type": "execute_result"
    }
   ],
   "source": [
    "df"
   ]
  },
  {
   "cell_type": "code",
   "execution_count": 43,
   "id": "e125b400",
   "metadata": {},
   "outputs": [
    {
     "data": {
      "text/plain": [
       "0      127.652\n",
       "1      128.326\n",
       "2      129.308\n",
       "3      130.488\n",
       "4      131.839\n",
       "        ...   \n",
       "236    300.503\n",
       "237    298.731\n",
       "238    296.928\n",
       "239    294.417\n",
       "240    292.849\n",
       "Name: CSUSHPINSA, Length: 241, dtype: float64"
      ]
     },
     "execution_count": 43,
     "metadata": {},
     "output_type": "execute_result"
    }
   ],
   "source": [
    "y"
   ]
  },
  {
   "cell_type": "code",
   "execution_count": 44,
   "id": "9d76b2ee",
   "metadata": {},
   "outputs": [
    {
     "data": {
      "text/html": [
       "<div>\n",
       "<style scoped>\n",
       "    .dataframe tbody tr th:only-of-type {\n",
       "        vertical-align: middle;\n",
       "    }\n",
       "\n",
       "    .dataframe tbody tr th {\n",
       "        vertical-align: top;\n",
       "    }\n",
       "\n",
       "    .dataframe thead th {\n",
       "        text-align: right;\n",
       "    }\n",
       "</style>\n",
       "<table border=\"1\" class=\"dataframe\">\n",
       "  <thead>\n",
       "    <tr style=\"text-align: right;\">\n",
       "      <th></th>\n",
       "      <th>PERMIT</th>\n",
       "      <th>MSACSR</th>\n",
       "      <th>TLMFGCONS</th>\n",
       "      <th>UMCSENT</th>\n",
       "      <th>GDP</th>\n",
       "      <th>MSPUS</th>\n",
       "      <th>FEDFUNDS</th>\n",
       "    </tr>\n",
       "  </thead>\n",
       "  <tbody>\n",
       "    <tr>\n",
       "      <th>0</th>\n",
       "      <td>1808</td>\n",
       "      <td>4.0</td>\n",
       "      <td>19703.0</td>\n",
       "      <td>82.4</td>\n",
       "      <td>11174.129</td>\n",
       "      <td>186000.0</td>\n",
       "      <td>1.24</td>\n",
       "    </tr>\n",
       "    <tr>\n",
       "      <th>1</th>\n",
       "      <td>1854</td>\n",
       "      <td>4.5</td>\n",
       "      <td>19817.0</td>\n",
       "      <td>79.9</td>\n",
       "      <td>11312.766</td>\n",
       "      <td>191800.0</td>\n",
       "      <td>1.26</td>\n",
       "    </tr>\n",
       "    <tr>\n",
       "      <th>2</th>\n",
       "      <td>1757</td>\n",
       "      <td>4.1</td>\n",
       "      <td>20772.0</td>\n",
       "      <td>77.6</td>\n",
       "      <td>11566.669</td>\n",
       "      <td>191900.0</td>\n",
       "      <td>1.25</td>\n",
       "    </tr>\n",
       "    <tr>\n",
       "      <th>3</th>\n",
       "      <td>1803</td>\n",
       "      <td>4.1</td>\n",
       "      <td>20655.0</td>\n",
       "      <td>86.0</td>\n",
       "      <td>11772.234</td>\n",
       "      <td>198800.0</td>\n",
       "      <td>1.26</td>\n",
       "    </tr>\n",
       "    <tr>\n",
       "      <th>4</th>\n",
       "      <td>1835</td>\n",
       "      <td>3.9</td>\n",
       "      <td>22157.0</td>\n",
       "      <td>92.1</td>\n",
       "      <td>11923.447</td>\n",
       "      <td>212700.0</td>\n",
       "      <td>1.26</td>\n",
       "    </tr>\n",
       "    <tr>\n",
       "      <th>...</th>\n",
       "      <td>...</td>\n",
       "      <td>...</td>\n",
       "      <td>...</td>\n",
       "      <td>...</td>\n",
       "      <td>...</td>\n",
       "      <td>...</td>\n",
       "      <td>...</td>\n",
       "    </tr>\n",
       "    <tr>\n",
       "      <th>236</th>\n",
       "      <td>1588</td>\n",
       "      <td>9.7</td>\n",
       "      <td>122877.0</td>\n",
       "      <td>58.6</td>\n",
       "      <td>26813.601</td>\n",
       "      <td>429000.0</td>\n",
       "      <td>2.56</td>\n",
       "    </tr>\n",
       "    <tr>\n",
       "      <th>237</th>\n",
       "      <td>1555</td>\n",
       "      <td>9.7</td>\n",
       "      <td>120839.0</td>\n",
       "      <td>59.9</td>\n",
       "      <td>26813.601</td>\n",
       "      <td>429000.0</td>\n",
       "      <td>3.08</td>\n",
       "    </tr>\n",
       "    <tr>\n",
       "      <th>238</th>\n",
       "      <td>1402</td>\n",
       "      <td>9.4</td>\n",
       "      <td>131816.0</td>\n",
       "      <td>56.7</td>\n",
       "      <td>26813.601</td>\n",
       "      <td>429000.0</td>\n",
       "      <td>3.78</td>\n",
       "    </tr>\n",
       "    <tr>\n",
       "      <th>239</th>\n",
       "      <td>1409</td>\n",
       "      <td>8.5</td>\n",
       "      <td>133244.0</td>\n",
       "      <td>59.8</td>\n",
       "      <td>26813.601</td>\n",
       "      <td>429000.0</td>\n",
       "      <td>4.10</td>\n",
       "    </tr>\n",
       "    <tr>\n",
       "      <th>240</th>\n",
       "      <td>1354</td>\n",
       "      <td>8.1</td>\n",
       "      <td>54884.0</td>\n",
       "      <td>64.9</td>\n",
       "      <td>26813.601</td>\n",
       "      <td>429000.0</td>\n",
       "      <td>4.33</td>\n",
       "    </tr>\n",
       "  </tbody>\n",
       "</table>\n",
       "<p>241 rows × 7 columns</p>\n",
       "</div>"
      ],
      "text/plain": [
       "     PERMIT  MSACSR  TLMFGCONS  UMCSENT        GDP     MSPUS  FEDFUNDS\n",
       "0      1808     4.0    19703.0     82.4  11174.129  186000.0      1.24\n",
       "1      1854     4.5    19817.0     79.9  11312.766  191800.0      1.26\n",
       "2      1757     4.1    20772.0     77.6  11566.669  191900.0      1.25\n",
       "3      1803     4.1    20655.0     86.0  11772.234  198800.0      1.26\n",
       "4      1835     3.9    22157.0     92.1  11923.447  212700.0      1.26\n",
       "..      ...     ...        ...      ...        ...       ...       ...\n",
       "236    1588     9.7   122877.0     58.6  26813.601  429000.0      2.56\n",
       "237    1555     9.7   120839.0     59.9  26813.601  429000.0      3.08\n",
       "238    1402     9.4   131816.0     56.7  26813.601  429000.0      3.78\n",
       "239    1409     8.5   133244.0     59.8  26813.601  429000.0      4.10\n",
       "240    1354     8.1    54884.0     64.9  26813.601  429000.0      4.33\n",
       "\n",
       "[241 rows x 7 columns]"
      ]
     },
     "execution_count": 44,
     "metadata": {},
     "output_type": "execute_result"
    }
   ],
   "source": [
    "x"
   ]
  },
  {
   "cell_type": "markdown",
   "id": "7627248c",
   "metadata": {},
   "source": [
    "# Modael Evaluation"
   ]
  },
  {
   "cell_type": "code",
   "execution_count": 45,
   "id": "08f71653",
   "metadata": {},
   "outputs": [],
   "source": [
    "#importing important libraries for modeling \n",
    "from sklearn.linear_model import LinearRegression\n",
    "from sklearn.model_selection import train_test_split\n",
    "from sklearn.metrics import mean_squared_error, r2_score"
   ]
  },
  {
   "cell_type": "code",
   "execution_count": 46,
   "id": "8e85edd8",
   "metadata": {},
   "outputs": [],
   "source": [
    "# Split the data into training and testing sets\n",
    "x_train, x_test, y_train, y_test = train_test_split(x, y, test_size=0.2, random_state=42)"
   ]
  },
  {
   "cell_type": "code",
   "execution_count": 47,
   "id": "6ce74099",
   "metadata": {},
   "outputs": [
    {
     "name": "stdout",
     "output_type": "stream",
     "text": [
      "Mean squared error: 165.17\n",
      "Coefficient of determination: 0.92\n"
     ]
    }
   ],
   "source": [
    "# Train the model\n",
    "model = LinearRegression()\n",
    "model.fit(x_train, y_train)\n",
    "\n",
    "# Make predictions using the testing set\n",
    "y_pred = model.predict(x_test)\n",
    "\n",
    "# The mean squared error\n",
    "print('Mean squared error: %.2f' % mean_squared_error(y_test, y_pred))\n",
    "\n",
    "# The coefficient of determination: 1 is perfect prediction\n",
    "print('Coefficient of determination: %.2f' % r2_score(y_test, y_pred))"
   ]
  },
  {
   "cell_type": "raw",
   "id": "4ee839f0",
   "metadata": {},
   "source": [
    "Interpretation:-\n",
    "The low MSE of 165.17 suggests that the model's predictions closely align with the actual values, on average.\n",
    "The high R-squared value of 0.92 indicates that a significant portion of the variability in the home price index is captured by the model.\n",
    "Together, these metrics suggest that the model is performing well in predicting the home price index based on the features included in the analysis."
   ]
  },
  {
   "cell_type": "code",
   "execution_count": 48,
   "id": "e8817054",
   "metadata": {},
   "outputs": [],
   "source": [
    "from sklearn.preprocessing import StandardScaler\n",
    "scaler = StandardScaler()\n",
    "x_train = scaler.fit_transform(x_train)\n",
    "x_test = scaler.transform(x_test)     "
   ]
  },
  {
   "cell_type": "code",
   "execution_count": 49,
   "id": "45b88549",
   "metadata": {},
   "outputs": [],
   "source": [
    "from sklearn.linear_model import LassoCV\n",
    "lasso_cv_model = LassoCV(alphas=np.logspace(-4, 4, 100),cv=3)\n",
    "lasso_cv_model.fit(x_train, y_train)\n",
    "lasso_cv_predictions = lasso_cv_model.predict(x_test)"
   ]
  },
  {
   "cell_type": "code",
   "execution_count": 50,
   "id": "c65e06ce",
   "metadata": {},
   "outputs": [
    {
     "name": "stdout",
     "output_type": "stream",
     "text": [
      "Optimal Alpha: 0.2057\n",
      "Mean Squared Error (MSE): 165.88\n",
      "RMSE: 12.879465\n",
      "R-squared (R2): 0.92\n"
     ]
    }
   ],
   "source": [
    "optimal_alpha = lasso_cv_model.alpha_\n",
    "mse = mean_squared_error(y_test, lasso_cv_predictions)\n",
    "rmse = np.sqrt(mse)\n",
    "r2 = r2_score(y_test, lasso_cv_predictions)\n",
    "\n",
    "#printing the results\n",
    "print(f\"Optimal Alpha: {optimal_alpha:.4f}\")\n",
    "print(f\"Mean Squared Error (MSE): {mse:.2f}\")\n",
    "print(f\"RMSE: {rmse:2f}\")\n",
    "print(f\"R-squared (R2): {r2:.2f}\")"
   ]
  },
  {
   "cell_type": "raw",
   "id": "37858e7b",
   "metadata": {},
   "source": [
    "# Interpretation:\n",
    "The optimal alpha value (0.2057) suggests that the regularization parameter is tuned for better model performance.\n",
    "The low MSE and RMSE values (165.88 and 12.88, respectively) indicate that, on average, the model's predictions are close to the actual values.\n",
    "The high R-squared value (0.92) suggests that a significant proportion of the variability in the U.S. national home price index is captured by the model."
   ]
  },
  {
   "cell_type": "code",
   "execution_count": 51,
   "id": "3c382ed8",
   "metadata": {},
   "outputs": [
    {
     "name": "stdout",
     "output_type": "stream",
     "text": [
      "Cross-Validation R-squared Scores:\n",
      "[0.90115261 0.93635678 0.91290053 0.93597661 0.83773845]\n"
     ]
    }
   ],
   "source": [
    "from sklearn.model_selection import train_test_split, cross_val_score\n",
    "cross_val_scores = cross_val_score(lasso_cv_model, x_train, y_train, cv=5, scoring='r2')\n",
    "print(\"Cross-Validation R-squared Scores:\")\n",
    "print(cross_val_scores)"
   ]
  },
  {
   "cell_type": "code",
   "execution_count": 52,
   "id": "26358c11",
   "metadata": {},
   "outputs": [
    {
     "name": "stdout",
     "output_type": "stream",
     "text": [
      "Mean R-squared: 0.9048\n",
      "Standard Deviation of R-squared: 0.0362\n",
      "1.2879465180424443\n",
      "18.112609543568464\n"
     ]
    }
   ],
   "source": [
    "mean_r2 = cross_val_scores.mean()\n",
    "std_r2 = cross_val_scores.std()\n",
    "\n",
    "print(f\"Mean R-squared: {mean_r2:.4f}\")\n",
    "print(f\"Standard Deviation of R-squared: {std_r2:.4f}\")\n",
    "\n",
    "print(0.1 * rmse)\n",
    "print(0.1 * df['CSUSHPINSA'].mean())"
   ]
  },
  {
   "cell_type": "markdown",
   "id": "2c746449",
   "metadata": {},
   "source": [
    "Interpretation:\n",
    "The high mean R-squared value (0.9048) indicates that, on average, the model performs well in explaining the variation in the U.S. national home price index.\n",
    "The low standard deviation of R-squared (0.0362) suggests that the model's performance is consistent across different instances or observations."
   ]
  },
  {
   "cell_type": "code",
   "execution_count": 53,
   "id": "f3580838",
   "metadata": {},
   "outputs": [
    {
     "data": {
      "text/html": [
       "<div>\n",
       "<style scoped>\n",
       "    .dataframe tbody tr th:only-of-type {\n",
       "        vertical-align: middle;\n",
       "    }\n",
       "\n",
       "    .dataframe tbody tr th {\n",
       "        vertical-align: top;\n",
       "    }\n",
       "\n",
       "    .dataframe thead th {\n",
       "        text-align: right;\n",
       "    }\n",
       "</style>\n",
       "<table border=\"1\" class=\"dataframe\">\n",
       "  <thead>\n",
       "    <tr style=\"text-align: right;\">\n",
       "      <th></th>\n",
       "      <th>Feature</th>\n",
       "      <th>Coefficient</th>\n",
       "    </tr>\n",
       "  </thead>\n",
       "  <tbody>\n",
       "    <tr>\n",
       "      <th>0</th>\n",
       "      <td>PERMIT</td>\n",
       "      <td>38.876041</td>\n",
       "    </tr>\n",
       "    <tr>\n",
       "      <th>1</th>\n",
       "      <td>MSACSR</td>\n",
       "      <td>11.979492</td>\n",
       "    </tr>\n",
       "    <tr>\n",
       "      <th>2</th>\n",
       "      <td>TLMFGCONS</td>\n",
       "      <td>16.293697</td>\n",
       "    </tr>\n",
       "    <tr>\n",
       "      <th>3</th>\n",
       "      <td>UMCSENT</td>\n",
       "      <td>-9.082659</td>\n",
       "    </tr>\n",
       "    <tr>\n",
       "      <th>4</th>\n",
       "      <td>GDP</td>\n",
       "      <td>12.345752</td>\n",
       "    </tr>\n",
       "    <tr>\n",
       "      <th>5</th>\n",
       "      <td>MSPUS</td>\n",
       "      <td>8.505302</td>\n",
       "    </tr>\n",
       "    <tr>\n",
       "      <th>6</th>\n",
       "      <td>FEDFUNDS</td>\n",
       "      <td>0.175497</td>\n",
       "    </tr>\n",
       "  </tbody>\n",
       "</table>\n",
       "</div>"
      ],
      "text/plain": [
       "     Feature  Coefficient\n",
       "0     PERMIT    38.876041\n",
       "1     MSACSR    11.979492\n",
       "2  TLMFGCONS    16.293697\n",
       "3    UMCSENT    -9.082659\n",
       "4        GDP    12.345752\n",
       "5      MSPUS     8.505302\n",
       "6   FEDFUNDS     0.175497"
      ]
     },
     "execution_count": 53,
     "metadata": {},
     "output_type": "execute_result"
    }
   ],
   "source": [
    "#displaying coefficients with features\n",
    "lasso_coefficients = lasso_cv_model.coef_\n",
    "feature_names = x.columns\n",
    "coefficients_df = pd.DataFrame({'Feature': feature_names, 'Coefficient': lasso_coefficients})\n",
    "non_zero_coefficients_df = coefficients_df[coefficients_df['Coefficient'] != 0]\n",
    "zero_coefficients_df = coefficients_df[coefficients_df['Coefficient'] == 0]\n",
    "non_zero_coefficients_df     "
   ]
  },
  {
   "cell_type": "code",
   "execution_count": 54,
   "id": "97930f6a",
   "metadata": {},
   "outputs": [
    {
     "data": {
      "image/png": "[encoded data removed]",
      "text/plain": [
       "<Figure size 576x432 with 1 Axes>"
      ]
     },
     "metadata": {
      "needs_background": "light"
     },
     "output_type": "display_data"
    }
   ],
   "source": [
    "#plotting a graph for model's prediction and validation\n",
    "plt.figure(figsize=(8, 6))\n",
    "plt.scatter(y_test, lasso_cv_predictions, alpha=0.5)\n",
    "plt.xlabel(\"Observed\")\n",
    "plt.ylabel(\"Predicted\")\n",
    "plt.title(\"Interpretation and Validation\")\n",
    "plt.grid(True)\n",
    "\n",
    "# Add a diagonal line for reference (perfect predictions)\n",
    "x = np.linspace(min(y_test), max(y_test), 100)\n",
    "plt.plot(x, x, color='GREEN', linestyle='--')\n",
    "\n",
    "plt.show()"
   ]
  },
  {
   "cell_type": "code",
   "execution_count": 55,
   "id": "d951374a",
   "metadata": {},
   "outputs": [],
   "source": [
    "#performing hyperparameters tunning for searching the best parameter\n",
    "from sklearn.model_selection import train_test_split, RandomizedSearchCV\n",
    "from sklearn.model_selection import train_test_split, GridSearchCV\n",
    "from sklearn.linear_model import Ridge, Lasso"
   ]
  },
  {
   "cell_type": "code",
   "execution_count": 56,
   "id": "536887e0",
   "metadata": {},
   "outputs": [],
   "source": [
    "# Define the models and the hyperparameters to tune\n",
    "models = {\n",
    "    'Ridge': {\n",
    "        'model': Ridge(),\n",
    "        'params': {\n",
    "            'alpha': [0.01, 0.1, 1, 10, 100]\n",
    "        }\n",
    "    },\n",
    "    'Lasso': {\n",
    "        'model': Lasso(),\n",
    "        'params': {\n",
    "            'alpha': [0.01, 0.1, 1, 10, 100]\n",
    "        }\n",
    "    }\n",
    "}"
   ]
  },
  {
   "cell_type": "code",
   "execution_count": 57,
   "id": "6656e37e",
   "metadata": {},
   "outputs": [
    {
     "name": "stdout",
     "output_type": "stream",
     "text": [
      "Ridge Regression:\n",
      "Best parameters:  {'alpha': 1}\n",
      "Best score:  -159.46142460361904\n",
      "---------------------------------------\n",
      "Lasso Regression:\n",
      "Best parameters:  {'alpha': 0.1}\n",
      "Best score:  -161.18719588141266\n",
      "---------------------------------------\n"
     ]
    }
   ],
   "source": [
    "# Performing hyperparameter tuning for each model\n",
    "for name, model in models.items():\n",
    "    clf = GridSearchCV(model['model'], model['params'], cv=5, scoring='neg_mean_squared_error')\n",
    "    clf.fit(x_train, y_train)\n",
    "    \n",
    "    print(f'{name} Regression:')\n",
    "    print('Best parameters: ', clf.best_params_)\n",
    "    print('Best score: ', clf.best_score_)\n",
    "    print('---------------------------------------')"
   ]
  },
  {
   "cell_type": "raw",
   "id": "7f239424",
   "metadata": {},
   "source": [
    "Interpretation:\n",
    "The GridSearchCV optimization process helps identify the optimal hyperparameter values for the Ridge and Lasso regression models.\n",
    "Lower mean squared error values indicate better predictive performance. In this case, both Ridge and Lasso models achieved negative mean squared errors, suggesting good model fitting."
   ]
  },
  {
   "cell_type": "markdown",
   "id": "562526d7",
   "metadata": {},
   "source": [
    "# *********************DONE******************"
   ]
  },
  {
   "cell_type": "code",
   "execution_count": null,
   "id": "5ac28341",
   "metadata": {},
   "outputs": [],
   "source": []
  }
 ],
 "metadata": {
  "kernelspec": {
   "display_name": "Python 3 (ipykernel)",
   "language": "python",
   "name": "python3"
  },
  "language_info": {
   "codemirror_mode": {
    "name": "ipython",
    "version": 3
   },
   "file_extension": ".py",
   "mimetype": "text/x-python",
   "name": "python",
   "nbconvert_exporter": "python",
   "pygments_lexer": "ipython3",
   "version": "3.9.12"
  }
 },
 "nbformat": 4,
 "nbformat_minor": 5
}
